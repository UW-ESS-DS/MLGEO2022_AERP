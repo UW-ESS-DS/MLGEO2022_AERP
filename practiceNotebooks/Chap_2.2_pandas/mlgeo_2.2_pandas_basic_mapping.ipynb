{
 "cells": [
  {
   "cell_type": "markdown",
   "id": "21a438f0",
   "metadata": {},
   "source": [
    "# 2.2 Pandas, Basic Mapping\n",
    "\n",
    "This section aims to provide new skills in python to handle structured \"table\" data. \n",
    "\n",
    "Learning outcome:\n",
    "-   Manipulation of data frames (describing, filtering, ...) \n",
    "-   Learn about Lambda functions\n",
    "-   Intro to datetime objects\n",
    "-   Plotting data from data frames (histograms and maps)\n",
    "-   Introduction to Plotly\n",
    "-   Introduction to CSV & Parquet\n",
    "\n",
    "\n",
    "We will work on several structured data sets: sensor metadata, seismic data product (earthquake catalog).\n",
    "\n",
    "First, we import all the modules we need:"
   ]
  },
  {
   "cell_type": "code",
   "execution_count": 14,
   "id": "98dba5c7",
   "metadata": {},
   "outputs": [],
   "source": [
    "import numpy as np\n",
    "import pandas as pd\n",
    "import io\n",
    "import requests\n",
    "import time\n",
    "from datetime import datetime, timedelta\n",
    "\n",
    "import plotly.express as px\n",
    "import plotly.io as pio\n",
    "pio.renderers.default = 'iframe' # writes as standalone html, \n",
    "# try notebook, jupyterlab, png, vscode, iframe\n"
   ]
  },
  {
   "cell_type": "code",
   "execution_count": 3,
   "id": "d773d4b0-f94e-4dae-a64d-bf76d5e8b31d",
   "metadata": {},
   "outputs": [
    {
     "name": "stdout",
     "output_type": "stream",
     "text": [
      "Requirement already satisfied: pyarrow in /srv/conda/envs/notebook/lib/python3.9/site-packages (9.0.0)\n",
      "Requirement already satisfied: plotly in /srv/conda/envs/notebook/lib/python3.9/site-packages (5.10.0)\n",
      "Requirement already satisfied: tenacity>=6.2.0 in /srv/conda/envs/notebook/lib/python3.9/site-packages (from plotly) (8.1.0)\n",
      "Requirement already satisfied: numpy>=1.16.6 in /srv/conda/envs/notebook/lib/python3.9/site-packages (from pyarrow) (1.23.3)\n"
     ]
    }
   ],
   "source": [
    "!pip install pyarrow plotly"
   ]
  },
  {
   "cell_type": "markdown",
   "id": "79cc6849",
   "metadata": {},
   "source": [
    "## Creating a data frame from standard text files\n",
    "\n",
    "The python package pandas is very useful to read csv files, but also many text files that are more or less formated as one observation per row and one column for each feature."
   ]
  },
  {
   "cell_type": "markdown",
   "id": "43d2662f",
   "metadata": {},
   "source": [
    "As an example, we are going to look at the list of seismic stations from the Northern California seismic network, available [here](http://ncedc.org/ftp/pub/doc/NC.info/NC.channel.summary.day):\n",
    "\n"
   ]
  },
  {
   "cell_type": "code",
   "execution_count": 4,
   "id": "e2b0db2d",
   "metadata": {},
   "outputs": [],
   "source": [
    "url = 'http://ncedc.org/ftp/pub/doc/NC.info/NC.channel.summary.day'"
   ]
  },
  {
   "cell_type": "markdown",
   "id": "c3737498",
   "metadata": {},
   "source": [
    "The function read_csv is used to open and read your text file. In the case of a well formatted csv file, only the name of the file needs to be entered:\n",
    "\n",
    "     data = pd.read_csv('my_file.csv')\n",
    "\n",
    "However, many options are available if the file is not well formatted. See more in this [tutorial](https://pandas.pydata.org/pandas-docs/stable/reference/api/pandas.read_csv.html):\n",
    "\n"
   ]
  },
  {
   "cell_type": "code",
   "execution_count": 5,
   "id": "8de7981b",
   "metadata": {},
   "outputs": [],
   "source": [
    "# this gets the file linked in the URL page and convert it to a string\n",
    "s = requests.get(url).content \n"
   ]
  },
  {
   "cell_type": "code",
   "execution_count": 6,
   "id": "b0e37c30-912e-4770-8bc5-3ebf71e1d42e",
   "metadata": {},
   "outputs": [],
   "source": [
    "# this will convert the string, decode it , and make it a table\n",
    "data = pd.read_csv(io.StringIO(s.decode('utf-8')), header=None, skiprows=2, sep='\\s+', usecols=list(range(0, 13)))\n",
    "# because columns/keys were not assigned, assign them now\n",
    "data.columns = ['station', 'network', 'channel', 'location', 'rate', 'start_time', 'end_time', 'latitude', 'longitude', 'elevation', 'depth', 'dip', 'azimuth']"
   ]
  },
  {
   "cell_type": "markdown",
   "id": "a2a04924",
   "metadata": {},
   "source": [
    "Let us look at the data. They are now stored into a pandas dataframe. Read the top of the table:"
   ]
  },
  {
   "cell_type": "code",
   "execution_count": 7,
   "id": "a39168b5",
   "metadata": {},
   "outputs": [
    {
     "data": {
      "text/html": [
       "<div>\n",
       "<style scoped>\n",
       "    .dataframe tbody tr th:only-of-type {\n",
       "        vertical-align: middle;\n",
       "    }\n",
       "\n",
       "    .dataframe tbody tr th {\n",
       "        vertical-align: top;\n",
       "    }\n",
       "\n",
       "    .dataframe thead th {\n",
       "        text-align: right;\n",
       "    }\n",
       "</style>\n",
       "<table border=\"1\" class=\"dataframe\">\n",
       "  <thead>\n",
       "    <tr style=\"text-align: right;\">\n",
       "      <th></th>\n",
       "      <th>station</th>\n",
       "      <th>network</th>\n",
       "      <th>channel</th>\n",
       "      <th>location</th>\n",
       "      <th>rate</th>\n",
       "      <th>start_time</th>\n",
       "      <th>end_time</th>\n",
       "      <th>latitude</th>\n",
       "      <th>longitude</th>\n",
       "      <th>elevation</th>\n",
       "      <th>depth</th>\n",
       "      <th>dip</th>\n",
       "      <th>azimuth</th>\n",
       "    </tr>\n",
       "  </thead>\n",
       "  <tbody>\n",
       "    <tr>\n",
       "      <th>0</th>\n",
       "      <td>AAR</td>\n",
       "      <td>NC</td>\n",
       "      <td>EHZ</td>\n",
       "      <td>--</td>\n",
       "      <td>100.0</td>\n",
       "      <td>1984/01/01,00:00:00</td>\n",
       "      <td>1987/05/01,00:00:00</td>\n",
       "      <td>39.27594</td>\n",
       "      <td>-121.02696</td>\n",
       "      <td>911.0</td>\n",
       "      <td>0.0</td>\n",
       "      <td>-90.0</td>\n",
       "      <td>0.0</td>\n",
       "    </tr>\n",
       "    <tr>\n",
       "      <th>1</th>\n",
       "      <td>AAR</td>\n",
       "      <td>NC</td>\n",
       "      <td>EHZ</td>\n",
       "      <td>--</td>\n",
       "      <td>100.0</td>\n",
       "      <td>1987/05/01,00:00:00</td>\n",
       "      <td>2006/01/04,19:19:00</td>\n",
       "      <td>39.27594</td>\n",
       "      <td>-121.02696</td>\n",
       "      <td>911.0</td>\n",
       "      <td>0.0</td>\n",
       "      <td>-90.0</td>\n",
       "      <td>0.0</td>\n",
       "    </tr>\n",
       "    <tr>\n",
       "      <th>2</th>\n",
       "      <td>AAR</td>\n",
       "      <td>NC</td>\n",
       "      <td>SHZ</td>\n",
       "      <td>--</td>\n",
       "      <td>20.0</td>\n",
       "      <td>1994/11/28,00:00:00</td>\n",
       "      <td>2006/01/04,19:19:00</td>\n",
       "      <td>39.27594</td>\n",
       "      <td>-121.02696</td>\n",
       "      <td>911.0</td>\n",
       "      <td>0.0</td>\n",
       "      <td>-90.0</td>\n",
       "      <td>0.0</td>\n",
       "    </tr>\n",
       "    <tr>\n",
       "      <th>3</th>\n",
       "      <td>AAS</td>\n",
       "      <td>NC</td>\n",
       "      <td>EHZ</td>\n",
       "      <td>--</td>\n",
       "      <td>100.0</td>\n",
       "      <td>1984/11/27,18:45:00</td>\n",
       "      <td>1987/05/01,00:00:00</td>\n",
       "      <td>38.43014</td>\n",
       "      <td>-121.10959</td>\n",
       "      <td>31.0</td>\n",
       "      <td>0.0</td>\n",
       "      <td>-90.0</td>\n",
       "      <td>0.0</td>\n",
       "    </tr>\n",
       "    <tr>\n",
       "      <th>4</th>\n",
       "      <td>AAS</td>\n",
       "      <td>NC</td>\n",
       "      <td>EHZ</td>\n",
       "      <td>--</td>\n",
       "      <td>100.0</td>\n",
       "      <td>1987/05/01,00:00:00</td>\n",
       "      <td>2021/08/13,16:50:00</td>\n",
       "      <td>38.43014</td>\n",
       "      <td>-121.10959</td>\n",
       "      <td>31.0</td>\n",
       "      <td>0.0</td>\n",
       "      <td>-90.0</td>\n",
       "      <td>0.0</td>\n",
       "    </tr>\n",
       "  </tbody>\n",
       "</table>\n",
       "</div>"
      ],
      "text/plain": [
       "  station network channel location   rate           start_time  \\\n",
       "0     AAR      NC     EHZ       --  100.0  1984/01/01,00:00:00   \n",
       "1     AAR      NC     EHZ       --  100.0  1987/05/01,00:00:00   \n",
       "2     AAR      NC     SHZ       --   20.0  1994/11/28,00:00:00   \n",
       "3     AAS      NC     EHZ       --  100.0  1984/11/27,18:45:00   \n",
       "4     AAS      NC     EHZ       --  100.0  1987/05/01,00:00:00   \n",
       "\n",
       "              end_time  latitude  longitude  elevation  depth   dip  azimuth  \n",
       "0  1987/05/01,00:00:00  39.27594 -121.02696      911.0    0.0 -90.0      0.0  \n",
       "1  2006/01/04,19:19:00  39.27594 -121.02696      911.0    0.0 -90.0      0.0  \n",
       "2  2006/01/04,19:19:00  39.27594 -121.02696      911.0    0.0 -90.0      0.0  \n",
       "3  1987/05/01,00:00:00  38.43014 -121.10959       31.0    0.0 -90.0      0.0  \n",
       "4  2021/08/13,16:50:00  38.43014 -121.10959       31.0    0.0 -90.0      0.0  "
      ]
     },
     "execution_count": 7,
     "metadata": {},
     "output_type": "execute_result"
    }
   ],
   "source": [
    "data.head()"
   ]
  },
  {
   "cell_type": "markdown",
   "id": "32624494",
   "metadata": {},
   "source": [
    "There are two aways of looking at a particular column:"
   ]
  },
  {
   "cell_type": "code",
   "execution_count": 8,
   "id": "0808db9c",
   "metadata": {},
   "outputs": [
    {
     "data": {
      "text/plain": [
       "0        AAR\n",
       "1        AAR\n",
       "2        AAR\n",
       "3        AAS\n",
       "4        AAS\n",
       "        ... \n",
       "7151     WMP\n",
       "7152     WMP\n",
       "7153     WMP\n",
       "7154     WMP\n",
       "7155    WWVB\n",
       "Name: station, Length: 7156, dtype: object"
      ]
     },
     "execution_count": 8,
     "metadata": {},
     "output_type": "execute_result"
    }
   ],
   "source": [
    "data.station"
   ]
  },
  {
   "cell_type": "code",
   "execution_count": null,
   "id": "1e48648c",
   "metadata": {},
   "outputs": [],
   "source": [
    "# or like this:\n",
    "data['station']"
   ]
  },
  {
   "cell_type": "markdown",
   "id": "896206be",
   "metadata": {},
   "source": [
    "If we want to look at a given row or column, and we know its index, we can do:"
   ]
  },
  {
   "cell_type": "code",
   "execution_count": 9,
   "id": "a28662a7",
   "metadata": {},
   "outputs": [
    {
     "data": {
      "text/plain": [
       "station                       AAR\n",
       "network                        NC\n",
       "channel                       EHZ\n",
       "location                       --\n",
       "rate                        100.0\n",
       "start_time    1984/01/01,00:00:00\n",
       "end_time      1987/05/01,00:00:00\n",
       "latitude                 39.27594\n",
       "longitude              -121.02696\n",
       "elevation                   911.0\n",
       "depth                         0.0\n",
       "dip                         -90.0\n",
       "azimuth                       0.0\n",
       "Name: 0, dtype: object"
      ]
     },
     "execution_count": 9,
     "metadata": {},
     "output_type": "execute_result"
    }
   ],
   "source": [
    "data.iloc[0]"
   ]
  },
  {
   "cell_type": "code",
   "execution_count": null,
   "id": "4c7799bb",
   "metadata": {},
   "outputs": [],
   "source": [
    "data.iloc[:, 0]"
   ]
  },
  {
   "cell_type": "markdown",
   "id": "eb482fa2",
   "metadata": {},
   "source": [
    "If we know the name of the column, we can do:"
   ]
  },
  {
   "cell_type": "code",
   "execution_count": null,
   "id": "1bae9d5d",
   "metadata": {},
   "outputs": [],
   "source": [
    "data.loc[:, 'station']"
   ]
  },
  {
   "cell_type": "markdown",
   "id": "eea0a1df",
   "metadata": {},
   "source": [
    "We can also access a single value within a column:"
   ]
  },
  {
   "cell_type": "code",
   "execution_count": null,
   "id": "49aca87e",
   "metadata": {},
   "outputs": [],
   "source": [
    "data.loc[0, 'station']"
   ]
  },
  {
   "cell_type": "markdown",
   "id": "23510633",
   "metadata": {},
   "source": [
    "## Mapping usiny Plotly\n",
    "\n",
    "Now we will plot the station locations on a map using the Plotly package. More tutorials on [Plotly](https://plotly.com/). Input of the function in the function is self-explanatory and typical of Python's function. The code [documentation](https://plotly.com/python/scatter-plots-on-maps/) of Plotly scatter_geo lists the variables."
   ]
  },
  {
   "cell_type": "code",
   "execution_count": 15,
   "id": "eaf74a8a",
   "metadata": {},
   "outputs": [
    {
     "data": {
      "text/html": [
       "<iframe\n",
       "    scrolling=\"no\"\n",
       "    width=\"820px\"\n",
       "    height=\"820\"\n",
       "    src=\"iframe_figures/figure_15.html\"\n",
       "    frameborder=\"0\"\n",
       "    allowfullscreen\n",
       "></iframe>\n"
      ]
     },
     "metadata": {},
     "output_type": "display_data"
    }
   ],
   "source": [
    "fig = px.scatter_geo(data,\n",
    "                     lat='latitude',lon='longitude', \n",
    "                     range_color=(6,9),\n",
    "                     height=800, width=800,\n",
    "                     hover_name=\"station\",\n",
    "                     hover_data=['network','station','channel','rate']);\n",
    "fig.update_geos(resolution=110, showcountries=True,projection_type=\"orthographic\")"
   ]
  },
  {
   "cell_type": "code",
   "execution_count": 22,
   "id": "f7fdd0e5",
   "metadata": {},
   "outputs": [
    {
     "data": {
      "text/html": [
       "<iframe\n",
       "    scrolling=\"no\"\n",
       "    width=\"820px\"\n",
       "    height=\"820\"\n",
       "    src=\"iframe_figures/figure_22.html\"\n",
       "    frameborder=\"0\"\n",
       "    allowfullscreen\n",
       "></iframe>\n"
      ]
     },
     "metadata": {},
     "output_type": "display_data"
    },
    {
     "ename": "TypeError",
     "evalue": "write_image() got multiple values for argument 'format'",
     "output_type": "error",
     "traceback": [
      "\u001b[0;31m---------------------------------------------------------------------------\u001b[0m",
      "\u001b[0;31mTypeError\u001b[0m                                 Traceback (most recent call last)",
      "Input \u001b[0;32mIn [22]\u001b[0m, in \u001b[0;36m<cell line: 9>\u001b[0;34m()\u001b[0m\n\u001b[1;32m      7\u001b[0m fig\u001b[38;5;241m.\u001b[39mupdate_layout(title\u001b[38;5;241m=\u001b[39m\u001b[38;5;124m\"\u001b[39m\u001b[38;5;124mNorthern California Seismic Network\u001b[39m\u001b[38;5;124m\"\u001b[39m)\n\u001b[1;32m      8\u001b[0m fig\u001b[38;5;241m.\u001b[39mshow()\n\u001b[0;32m----> 9\u001b[0m \u001b[43mfig\u001b[49m\u001b[38;5;241;43m.\u001b[39;49m\u001b[43mwrite_image\u001b[49m\u001b[43m(\u001b[49m\u001b[43mfig\u001b[49m\u001b[43m,\u001b[49m\u001b[43m \u001b[49m\u001b[38;5;124;43m\"\u001b[39;49m\u001b[38;5;124;43mmap_test\u001b[39;49m\u001b[38;5;124;43m\"\u001b[39;49m\u001b[43m,\u001b[49m\u001b[43m \u001b[49m\u001b[38;5;28;43mformat\u001b[39;49m\u001b[38;5;241;43m=\u001b[39;49m\u001b[38;5;124;43m'\u001b[39;49m\u001b[38;5;124;43mpng\u001b[39;49m\u001b[38;5;124;43m'\u001b[39;49m\u001b[43m)\u001b[49m\n",
      "File \u001b[0;32m/srv/conda/envs/notebook/lib/python3.9/site-packages/plotly/basedatatypes.py:3829\u001b[0m, in \u001b[0;36mBaseFigure.write_image\u001b[0;34m(self, *args, **kwargs)\u001b[0m\n\u001b[1;32m   3769\u001b[0m \u001b[38;5;124;03m\"\"\"\u001b[39;00m\n\u001b[1;32m   3770\u001b[0m \u001b[38;5;124;03mConvert a figure to a static image and write it to a file or writeable\u001b[39;00m\n\u001b[1;32m   3771\u001b[0m \u001b[38;5;124;03mobject\u001b[39;00m\n\u001b[0;32m   (...)\u001b[0m\n\u001b[1;32m   3825\u001b[0m \u001b[38;5;124;03mNone\u001b[39;00m\n\u001b[1;32m   3826\u001b[0m \u001b[38;5;124;03m\"\"\"\u001b[39;00m\n\u001b[1;32m   3827\u001b[0m \u001b[38;5;28;01mimport\u001b[39;00m \u001b[38;5;21;01mplotly\u001b[39;00m\u001b[38;5;21;01m.\u001b[39;00m\u001b[38;5;21;01mio\u001b[39;00m \u001b[38;5;28;01mas\u001b[39;00m \u001b[38;5;21;01mpio\u001b[39;00m\n\u001b[0;32m-> 3829\u001b[0m \u001b[38;5;28;01mreturn\u001b[39;00m \u001b[43mpio\u001b[49m\u001b[38;5;241;43m.\u001b[39;49m\u001b[43mwrite_image\u001b[49m\u001b[43m(\u001b[49m\u001b[38;5;28;43mself\u001b[39;49m\u001b[43m,\u001b[49m\u001b[43m \u001b[49m\u001b[38;5;241;43m*\u001b[39;49m\u001b[43margs\u001b[49m\u001b[43m,\u001b[49m\u001b[43m \u001b[49m\u001b[38;5;241;43m*\u001b[39;49m\u001b[38;5;241;43m*\u001b[39;49m\u001b[43mkwargs\u001b[49m\u001b[43m)\u001b[49m\n",
      "\u001b[0;31mTypeError\u001b[0m: write_image() got multiple values for argument 'format'"
     ]
    }
   ],
   "source": [
    "fig = px.scatter_mapbox(data,\n",
    "                     lat='latitude',lon='longitude', \n",
    "                     range_color=(6,9),mapbox_style=\"carto-positron\",\n",
    "                     height=800, width=800,\n",
    "                     hover_name=\"station\",\n",
    "                     hover_data=['network','station','channel','rate']);\n",
    "fig.update_layout(title=\"Northern California Seismic Network\")\n",
    "fig.show()\n",
    "fig.write_image(fig, \"map_test\", format='png')"
   ]
  },
  {
   "cell_type": "markdown",
   "id": "3991c460",
   "metadata": {},
   "source": [
    "## Pandas: data selection\n",
    "We can filter the data with the value taken by a given column:"
   ]
  },
  {
   "cell_type": "code",
   "execution_count": 23,
   "id": "93c2423f",
   "metadata": {},
   "outputs": [
    {
     "data": {
      "text/html": [
       "<div>\n",
       "<style scoped>\n",
       "    .dataframe tbody tr th:only-of-type {\n",
       "        vertical-align: middle;\n",
       "    }\n",
       "\n",
       "    .dataframe tbody tr th {\n",
       "        vertical-align: top;\n",
       "    }\n",
       "\n",
       "    .dataframe thead th {\n",
       "        text-align: right;\n",
       "    }\n",
       "</style>\n",
       "<table border=\"1\" class=\"dataframe\">\n",
       "  <thead>\n",
       "    <tr style=\"text-align: right;\">\n",
       "      <th></th>\n",
       "      <th>station</th>\n",
       "      <th>network</th>\n",
       "      <th>channel</th>\n",
       "      <th>location</th>\n",
       "      <th>rate</th>\n",
       "      <th>start_time</th>\n",
       "      <th>end_time</th>\n",
       "      <th>latitude</th>\n",
       "      <th>longitude</th>\n",
       "      <th>elevation</th>\n",
       "      <th>depth</th>\n",
       "      <th>dip</th>\n",
       "      <th>azimuth</th>\n",
       "    </tr>\n",
       "  </thead>\n",
       "  <tbody>\n",
       "    <tr>\n",
       "      <th>3407</th>\n",
       "      <td>KCPB</td>\n",
       "      <td>NC</td>\n",
       "      <td>BHE</td>\n",
       "      <td>--</td>\n",
       "      <td>50.0</td>\n",
       "      <td>1999/08/03,00:00:00</td>\n",
       "      <td>2000/06/06,16:00:00</td>\n",
       "      <td>39.68631</td>\n",
       "      <td>-123.58242</td>\n",
       "      <td>1261.0</td>\n",
       "      <td>0.0</td>\n",
       "      <td>0.0</td>\n",
       "      <td>90.0</td>\n",
       "    </tr>\n",
       "    <tr>\n",
       "      <th>3408</th>\n",
       "      <td>KCPB</td>\n",
       "      <td>NC</td>\n",
       "      <td>BHE</td>\n",
       "      <td>--</td>\n",
       "      <td>50.0</td>\n",
       "      <td>2000/06/06,16:00:00</td>\n",
       "      <td>2002/01/24,23:50:00</td>\n",
       "      <td>39.68631</td>\n",
       "      <td>-123.58242</td>\n",
       "      <td>1261.0</td>\n",
       "      <td>0.0</td>\n",
       "      <td>0.0</td>\n",
       "      <td>90.0</td>\n",
       "    </tr>\n",
       "    <tr>\n",
       "      <th>3409</th>\n",
       "      <td>KCPB</td>\n",
       "      <td>NC</td>\n",
       "      <td>BHE</td>\n",
       "      <td>--</td>\n",
       "      <td>50.0</td>\n",
       "      <td>2002/01/24,23:50:00</td>\n",
       "      <td>2002/10/16,23:59:00</td>\n",
       "      <td>39.68631</td>\n",
       "      <td>-123.58242</td>\n",
       "      <td>1261.0</td>\n",
       "      <td>0.0</td>\n",
       "      <td>0.0</td>\n",
       "      <td>90.0</td>\n",
       "    </tr>\n",
       "    <tr>\n",
       "      <th>3410</th>\n",
       "      <td>KCPB</td>\n",
       "      <td>NC</td>\n",
       "      <td>BHE</td>\n",
       "      <td>--</td>\n",
       "      <td>20.0</td>\n",
       "      <td>2002/10/17,00:00:00</td>\n",
       "      <td>2006/01/24,18:00:00</td>\n",
       "      <td>39.68631</td>\n",
       "      <td>-123.58242</td>\n",
       "      <td>1261.0</td>\n",
       "      <td>0.0</td>\n",
       "      <td>0.0</td>\n",
       "      <td>90.0</td>\n",
       "    </tr>\n",
       "    <tr>\n",
       "      <th>3411</th>\n",
       "      <td>KCPB</td>\n",
       "      <td>NC</td>\n",
       "      <td>BHN</td>\n",
       "      <td>--</td>\n",
       "      <td>50.0</td>\n",
       "      <td>1999/08/03,00:00:00</td>\n",
       "      <td>2000/06/06,16:00:00</td>\n",
       "      <td>39.68631</td>\n",
       "      <td>-123.58242</td>\n",
       "      <td>1261.0</td>\n",
       "      <td>0.0</td>\n",
       "      <td>0.0</td>\n",
       "      <td>0.0</td>\n",
       "    </tr>\n",
       "    <tr>\n",
       "      <th>...</th>\n",
       "      <td>...</td>\n",
       "      <td>...</td>\n",
       "      <td>...</td>\n",
       "      <td>...</td>\n",
       "      <td>...</td>\n",
       "      <td>...</td>\n",
       "      <td>...</td>\n",
       "      <td>...</td>\n",
       "      <td>...</td>\n",
       "      <td>...</td>\n",
       "      <td>...</td>\n",
       "      <td>...</td>\n",
       "      <td>...</td>\n",
       "    </tr>\n",
       "    <tr>\n",
       "      <th>3480</th>\n",
       "      <td>KCPB</td>\n",
       "      <td>NC</td>\n",
       "      <td>MNE</td>\n",
       "      <td>--</td>\n",
       "      <td>10.0</td>\n",
       "      <td>2000/06/06,16:00:00</td>\n",
       "      <td>2000/07/12,00:00:00</td>\n",
       "      <td>39.68631</td>\n",
       "      <td>-123.58242</td>\n",
       "      <td>1261.0</td>\n",
       "      <td>0.0</td>\n",
       "      <td>0.0</td>\n",
       "      <td>90.0</td>\n",
       "    </tr>\n",
       "    <tr>\n",
       "      <th>3481</th>\n",
       "      <td>KCPB</td>\n",
       "      <td>NC</td>\n",
       "      <td>MNN</td>\n",
       "      <td>--</td>\n",
       "      <td>10.0</td>\n",
       "      <td>1999/08/03,00:00:00</td>\n",
       "      <td>2000/06/06,16:00:00</td>\n",
       "      <td>39.68631</td>\n",
       "      <td>-123.58242</td>\n",
       "      <td>1261.0</td>\n",
       "      <td>0.0</td>\n",
       "      <td>0.0</td>\n",
       "      <td>0.0</td>\n",
       "    </tr>\n",
       "    <tr>\n",
       "      <th>3482</th>\n",
       "      <td>KCPB</td>\n",
       "      <td>NC</td>\n",
       "      <td>MNN</td>\n",
       "      <td>--</td>\n",
       "      <td>10.0</td>\n",
       "      <td>2000/06/06,16:00:00</td>\n",
       "      <td>2000/07/12,00:00:00</td>\n",
       "      <td>39.68631</td>\n",
       "      <td>-123.58242</td>\n",
       "      <td>1261.0</td>\n",
       "      <td>0.0</td>\n",
       "      <td>0.0</td>\n",
       "      <td>0.0</td>\n",
       "    </tr>\n",
       "    <tr>\n",
       "      <th>3483</th>\n",
       "      <td>KCPB</td>\n",
       "      <td>NC</td>\n",
       "      <td>MNZ</td>\n",
       "      <td>--</td>\n",
       "      <td>10.0</td>\n",
       "      <td>1999/08/03,00:00:00</td>\n",
       "      <td>2000/06/06,16:00:00</td>\n",
       "      <td>39.68631</td>\n",
       "      <td>-123.58242</td>\n",
       "      <td>1261.0</td>\n",
       "      <td>0.0</td>\n",
       "      <td>-90.0</td>\n",
       "      <td>0.0</td>\n",
       "    </tr>\n",
       "    <tr>\n",
       "      <th>3484</th>\n",
       "      <td>KCPB</td>\n",
       "      <td>NC</td>\n",
       "      <td>MNZ</td>\n",
       "      <td>--</td>\n",
       "      <td>10.0</td>\n",
       "      <td>2000/06/06,16:00:00</td>\n",
       "      <td>2000/07/12,00:00:00</td>\n",
       "      <td>39.68631</td>\n",
       "      <td>-123.58242</td>\n",
       "      <td>1261.0</td>\n",
       "      <td>0.0</td>\n",
       "      <td>-90.0</td>\n",
       "      <td>0.0</td>\n",
       "    </tr>\n",
       "  </tbody>\n",
       "</table>\n",
       "<p>78 rows × 13 columns</p>\n",
       "</div>"
      ],
      "text/plain": [
       "     station network channel location  rate           start_time  \\\n",
       "3407    KCPB      NC     BHE       --  50.0  1999/08/03,00:00:00   \n",
       "3408    KCPB      NC     BHE       --  50.0  2000/06/06,16:00:00   \n",
       "3409    KCPB      NC     BHE       --  50.0  2002/01/24,23:50:00   \n",
       "3410    KCPB      NC     BHE       --  20.0  2002/10/17,00:00:00   \n",
       "3411    KCPB      NC     BHN       --  50.0  1999/08/03,00:00:00   \n",
       "...      ...     ...     ...      ...   ...                  ...   \n",
       "3480    KCPB      NC     MNE       --  10.0  2000/06/06,16:00:00   \n",
       "3481    KCPB      NC     MNN       --  10.0  1999/08/03,00:00:00   \n",
       "3482    KCPB      NC     MNN       --  10.0  2000/06/06,16:00:00   \n",
       "3483    KCPB      NC     MNZ       --  10.0  1999/08/03,00:00:00   \n",
       "3484    KCPB      NC     MNZ       --  10.0  2000/06/06,16:00:00   \n",
       "\n",
       "                 end_time  latitude  longitude  elevation  depth   dip  \\\n",
       "3407  2000/06/06,16:00:00  39.68631 -123.58242     1261.0    0.0   0.0   \n",
       "3408  2002/01/24,23:50:00  39.68631 -123.58242     1261.0    0.0   0.0   \n",
       "3409  2002/10/16,23:59:00  39.68631 -123.58242     1261.0    0.0   0.0   \n",
       "3410  2006/01/24,18:00:00  39.68631 -123.58242     1261.0    0.0   0.0   \n",
       "3411  2000/06/06,16:00:00  39.68631 -123.58242     1261.0    0.0   0.0   \n",
       "...                   ...       ...        ...        ...    ...   ...   \n",
       "3480  2000/07/12,00:00:00  39.68631 -123.58242     1261.0    0.0   0.0   \n",
       "3481  2000/06/06,16:00:00  39.68631 -123.58242     1261.0    0.0   0.0   \n",
       "3482  2000/07/12,00:00:00  39.68631 -123.58242     1261.0    0.0   0.0   \n",
       "3483  2000/06/06,16:00:00  39.68631 -123.58242     1261.0    0.0 -90.0   \n",
       "3484  2000/07/12,00:00:00  39.68631 -123.58242     1261.0    0.0 -90.0   \n",
       "\n",
       "      azimuth  \n",
       "3407     90.0  \n",
       "3408     90.0  \n",
       "3409     90.0  \n",
       "3410     90.0  \n",
       "3411      0.0  \n",
       "...       ...  \n",
       "3480     90.0  \n",
       "3481      0.0  \n",
       "3482      0.0  \n",
       "3483      0.0  \n",
       "3484      0.0  \n",
       "\n",
       "[78 rows x 13 columns]"
      ]
     },
     "execution_count": 23,
     "metadata": {},
     "output_type": "execute_result"
    }
   ],
   "source": [
    "data.loc[data.station=='KCPB']"
   ]
  },
  {
   "cell_type": "code",
   "execution_count": 24,
   "id": "38240e8c",
   "metadata": {},
   "outputs": [
    {
     "data": {
      "text/html": [
       "<div>\n",
       "<style scoped>\n",
       "    .dataframe tbody tr th:only-of-type {\n",
       "        vertical-align: middle;\n",
       "    }\n",
       "\n",
       "    .dataframe tbody tr th {\n",
       "        vertical-align: top;\n",
       "    }\n",
       "\n",
       "    .dataframe thead th {\n",
       "        text-align: right;\n",
       "    }\n",
       "</style>\n",
       "<table border=\"1\" class=\"dataframe\">\n",
       "  <thead>\n",
       "    <tr style=\"text-align: right;\">\n",
       "      <th></th>\n",
       "      <th>station</th>\n",
       "      <th>network</th>\n",
       "      <th>channel</th>\n",
       "      <th>location</th>\n",
       "      <th>rate</th>\n",
       "      <th>start_time</th>\n",
       "      <th>end_time</th>\n",
       "      <th>latitude</th>\n",
       "      <th>longitude</th>\n",
       "      <th>elevation</th>\n",
       "      <th>depth</th>\n",
       "      <th>dip</th>\n",
       "      <th>azimuth</th>\n",
       "    </tr>\n",
       "  </thead>\n",
       "  <tbody>\n",
       "    <tr>\n",
       "      <th>3407</th>\n",
       "      <td>KCPB</td>\n",
       "      <td>NC</td>\n",
       "      <td>BHE</td>\n",
       "      <td>--</td>\n",
       "      <td>50.0</td>\n",
       "      <td>1999/08/03,00:00:00</td>\n",
       "      <td>2000/06/06,16:00:00</td>\n",
       "      <td>39.68631</td>\n",
       "      <td>-123.58242</td>\n",
       "      <td>1261.0</td>\n",
       "      <td>0.0</td>\n",
       "      <td>0.0</td>\n",
       "      <td>90.0</td>\n",
       "    </tr>\n",
       "    <tr>\n",
       "      <th>3408</th>\n",
       "      <td>KCPB</td>\n",
       "      <td>NC</td>\n",
       "      <td>BHE</td>\n",
       "      <td>--</td>\n",
       "      <td>50.0</td>\n",
       "      <td>2000/06/06,16:00:00</td>\n",
       "      <td>2002/01/24,23:50:00</td>\n",
       "      <td>39.68631</td>\n",
       "      <td>-123.58242</td>\n",
       "      <td>1261.0</td>\n",
       "      <td>0.0</td>\n",
       "      <td>0.0</td>\n",
       "      <td>90.0</td>\n",
       "    </tr>\n",
       "    <tr>\n",
       "      <th>3409</th>\n",
       "      <td>KCPB</td>\n",
       "      <td>NC</td>\n",
       "      <td>BHE</td>\n",
       "      <td>--</td>\n",
       "      <td>50.0</td>\n",
       "      <td>2002/01/24,23:50:00</td>\n",
       "      <td>2002/10/16,23:59:00</td>\n",
       "      <td>39.68631</td>\n",
       "      <td>-123.58242</td>\n",
       "      <td>1261.0</td>\n",
       "      <td>0.0</td>\n",
       "      <td>0.0</td>\n",
       "      <td>90.0</td>\n",
       "    </tr>\n",
       "    <tr>\n",
       "      <th>3410</th>\n",
       "      <td>KCPB</td>\n",
       "      <td>NC</td>\n",
       "      <td>BHE</td>\n",
       "      <td>--</td>\n",
       "      <td>20.0</td>\n",
       "      <td>2002/10/17,00:00:00</td>\n",
       "      <td>2006/01/24,18:00:00</td>\n",
       "      <td>39.68631</td>\n",
       "      <td>-123.58242</td>\n",
       "      <td>1261.0</td>\n",
       "      <td>0.0</td>\n",
       "      <td>0.0</td>\n",
       "      <td>90.0</td>\n",
       "    </tr>\n",
       "    <tr>\n",
       "      <th>3411</th>\n",
       "      <td>KCPB</td>\n",
       "      <td>NC</td>\n",
       "      <td>BHN</td>\n",
       "      <td>--</td>\n",
       "      <td>50.0</td>\n",
       "      <td>1999/08/03,00:00:00</td>\n",
       "      <td>2000/06/06,16:00:00</td>\n",
       "      <td>39.68631</td>\n",
       "      <td>-123.58242</td>\n",
       "      <td>1261.0</td>\n",
       "      <td>0.0</td>\n",
       "      <td>0.0</td>\n",
       "      <td>0.0</td>\n",
       "    </tr>\n",
       "    <tr>\n",
       "      <th>...</th>\n",
       "      <td>...</td>\n",
       "      <td>...</td>\n",
       "      <td>...</td>\n",
       "      <td>...</td>\n",
       "      <td>...</td>\n",
       "      <td>...</td>\n",
       "      <td>...</td>\n",
       "      <td>...</td>\n",
       "      <td>...</td>\n",
       "      <td>...</td>\n",
       "      <td>...</td>\n",
       "      <td>...</td>\n",
       "      <td>...</td>\n",
       "    </tr>\n",
       "    <tr>\n",
       "      <th>3666</th>\n",
       "      <td>KHBB</td>\n",
       "      <td>NC</td>\n",
       "      <td>LHZ</td>\n",
       "      <td>--</td>\n",
       "      <td>1.0</td>\n",
       "      <td>2016/04/28,16:56:00</td>\n",
       "      <td>2022/08/09,18:00:00</td>\n",
       "      <td>40.65990</td>\n",
       "      <td>-123.21966</td>\n",
       "      <td>1864.0</td>\n",
       "      <td>0.0</td>\n",
       "      <td>-90.0</td>\n",
       "      <td>0.0</td>\n",
       "    </tr>\n",
       "    <tr>\n",
       "      <th>3667</th>\n",
       "      <td>KHBB</td>\n",
       "      <td>NC</td>\n",
       "      <td>LHZ</td>\n",
       "      <td>--</td>\n",
       "      <td>1.0</td>\n",
       "      <td>2022/08/09,18:00:00</td>\n",
       "      <td>3000/01/01,00:00:00</td>\n",
       "      <td>40.65990</td>\n",
       "      <td>-123.21966</td>\n",
       "      <td>1864.0</td>\n",
       "      <td>0.0</td>\n",
       "      <td>-90.0</td>\n",
       "      <td>0.0</td>\n",
       "    </tr>\n",
       "    <tr>\n",
       "      <th>3668</th>\n",
       "      <td>KHBB</td>\n",
       "      <td>NC</td>\n",
       "      <td>LNE</td>\n",
       "      <td>--</td>\n",
       "      <td>1.0</td>\n",
       "      <td>2015/10/29,21:18:00</td>\n",
       "      <td>2016/04/28,16:56:00</td>\n",
       "      <td>40.65990</td>\n",
       "      <td>-123.21966</td>\n",
       "      <td>1864.0</td>\n",
       "      <td>0.0</td>\n",
       "      <td>0.0</td>\n",
       "      <td>90.0</td>\n",
       "    </tr>\n",
       "    <tr>\n",
       "      <th>3669</th>\n",
       "      <td>KHBB</td>\n",
       "      <td>NC</td>\n",
       "      <td>LNN</td>\n",
       "      <td>--</td>\n",
       "      <td>1.0</td>\n",
       "      <td>2015/10/29,21:18:00</td>\n",
       "      <td>2016/04/28,16:56:00</td>\n",
       "      <td>40.65990</td>\n",
       "      <td>-123.21966</td>\n",
       "      <td>1864.0</td>\n",
       "      <td>0.0</td>\n",
       "      <td>0.0</td>\n",
       "      <td>0.0</td>\n",
       "    </tr>\n",
       "    <tr>\n",
       "      <th>3670</th>\n",
       "      <td>KHBB</td>\n",
       "      <td>NC</td>\n",
       "      <td>LNZ</td>\n",
       "      <td>--</td>\n",
       "      <td>1.0</td>\n",
       "      <td>2015/10/29,21:18:00</td>\n",
       "      <td>2016/04/28,16:56:00</td>\n",
       "      <td>40.65990</td>\n",
       "      <td>-123.21966</td>\n",
       "      <td>1864.0</td>\n",
       "      <td>0.0</td>\n",
       "      <td>-90.0</td>\n",
       "      <td>0.0</td>\n",
       "    </tr>\n",
       "  </tbody>\n",
       "</table>\n",
       "<p>123 rows × 13 columns</p>\n",
       "</div>"
      ],
      "text/plain": [
       "     station network channel location  rate           start_time  \\\n",
       "3407    KCPB      NC     BHE       --  50.0  1999/08/03,00:00:00   \n",
       "3408    KCPB      NC     BHE       --  50.0  2000/06/06,16:00:00   \n",
       "3409    KCPB      NC     BHE       --  50.0  2002/01/24,23:50:00   \n",
       "3410    KCPB      NC     BHE       --  20.0  2002/10/17,00:00:00   \n",
       "3411    KCPB      NC     BHN       --  50.0  1999/08/03,00:00:00   \n",
       "...      ...     ...     ...      ...   ...                  ...   \n",
       "3666    KHBB      NC     LHZ       --   1.0  2016/04/28,16:56:00   \n",
       "3667    KHBB      NC     LHZ       --   1.0  2022/08/09,18:00:00   \n",
       "3668    KHBB      NC     LNE       --   1.0  2015/10/29,21:18:00   \n",
       "3669    KHBB      NC     LNN       --   1.0  2015/10/29,21:18:00   \n",
       "3670    KHBB      NC     LNZ       --   1.0  2015/10/29,21:18:00   \n",
       "\n",
       "                 end_time  latitude  longitude  elevation  depth   dip  \\\n",
       "3407  2000/06/06,16:00:00  39.68631 -123.58242     1261.0    0.0   0.0   \n",
       "3408  2002/01/24,23:50:00  39.68631 -123.58242     1261.0    0.0   0.0   \n",
       "3409  2002/10/16,23:59:00  39.68631 -123.58242     1261.0    0.0   0.0   \n",
       "3410  2006/01/24,18:00:00  39.68631 -123.58242     1261.0    0.0   0.0   \n",
       "3411  2000/06/06,16:00:00  39.68631 -123.58242     1261.0    0.0   0.0   \n",
       "...                   ...       ...        ...        ...    ...   ...   \n",
       "3666  2022/08/09,18:00:00  40.65990 -123.21966     1864.0    0.0 -90.0   \n",
       "3667  3000/01/01,00:00:00  40.65990 -123.21966     1864.0    0.0 -90.0   \n",
       "3668  2016/04/28,16:56:00  40.65990 -123.21966     1864.0    0.0   0.0   \n",
       "3669  2016/04/28,16:56:00  40.65990 -123.21966     1864.0    0.0   0.0   \n",
       "3670  2016/04/28,16:56:00  40.65990 -123.21966     1864.0    0.0 -90.0   \n",
       "\n",
       "      azimuth  \n",
       "3407     90.0  \n",
       "3408     90.0  \n",
       "3409     90.0  \n",
       "3410     90.0  \n",
       "3411      0.0  \n",
       "...       ...  \n",
       "3666      0.0  \n",
       "3667      0.0  \n",
       "3668     90.0  \n",
       "3669      0.0  \n",
       "3670      0.0  \n",
       "\n",
       "[123 rows x 13 columns]"
      ]
     },
     "execution_count": 24,
     "metadata": {},
     "output_type": "execute_result"
    }
   ],
   "source": [
    "# Select two stations\n",
    "data.loc[(data.station=='KCPB') | (data.station=='KHBB')]"
   ]
  },
  {
   "cell_type": "code",
   "execution_count": 25,
   "id": "435c696c",
   "metadata": {},
   "outputs": [
    {
     "data": {
      "text/html": [
       "<div>\n",
       "<style scoped>\n",
       "    .dataframe tbody tr th:only-of-type {\n",
       "        vertical-align: middle;\n",
       "    }\n",
       "\n",
       "    .dataframe tbody tr th {\n",
       "        vertical-align: top;\n",
       "    }\n",
       "\n",
       "    .dataframe thead th {\n",
       "        text-align: right;\n",
       "    }\n",
       "</style>\n",
       "<table border=\"1\" class=\"dataframe\">\n",
       "  <thead>\n",
       "    <tr style=\"text-align: right;\">\n",
       "      <th></th>\n",
       "      <th>station</th>\n",
       "      <th>network</th>\n",
       "      <th>channel</th>\n",
       "      <th>location</th>\n",
       "      <th>rate</th>\n",
       "      <th>start_time</th>\n",
       "      <th>end_time</th>\n",
       "      <th>latitude</th>\n",
       "      <th>longitude</th>\n",
       "      <th>elevation</th>\n",
       "      <th>depth</th>\n",
       "      <th>dip</th>\n",
       "      <th>azimuth</th>\n",
       "    </tr>\n",
       "  </thead>\n",
       "  <tbody>\n",
       "    <tr>\n",
       "      <th>3407</th>\n",
       "      <td>KCPB</td>\n",
       "      <td>NC</td>\n",
       "      <td>BHE</td>\n",
       "      <td>--</td>\n",
       "      <td>50.0</td>\n",
       "      <td>1999/08/03,00:00:00</td>\n",
       "      <td>2000/06/06,16:00:00</td>\n",
       "      <td>39.68631</td>\n",
       "      <td>-123.58242</td>\n",
       "      <td>1261.0</td>\n",
       "      <td>0.0</td>\n",
       "      <td>0.0</td>\n",
       "      <td>90.0</td>\n",
       "    </tr>\n",
       "    <tr>\n",
       "      <th>3408</th>\n",
       "      <td>KCPB</td>\n",
       "      <td>NC</td>\n",
       "      <td>BHE</td>\n",
       "      <td>--</td>\n",
       "      <td>50.0</td>\n",
       "      <td>2000/06/06,16:00:00</td>\n",
       "      <td>2002/01/24,23:50:00</td>\n",
       "      <td>39.68631</td>\n",
       "      <td>-123.58242</td>\n",
       "      <td>1261.0</td>\n",
       "      <td>0.0</td>\n",
       "      <td>0.0</td>\n",
       "      <td>90.0</td>\n",
       "    </tr>\n",
       "    <tr>\n",
       "      <th>3409</th>\n",
       "      <td>KCPB</td>\n",
       "      <td>NC</td>\n",
       "      <td>BHE</td>\n",
       "      <td>--</td>\n",
       "      <td>50.0</td>\n",
       "      <td>2002/01/24,23:50:00</td>\n",
       "      <td>2002/10/16,23:59:00</td>\n",
       "      <td>39.68631</td>\n",
       "      <td>-123.58242</td>\n",
       "      <td>1261.0</td>\n",
       "      <td>0.0</td>\n",
       "      <td>0.0</td>\n",
       "      <td>90.0</td>\n",
       "    </tr>\n",
       "    <tr>\n",
       "      <th>3410</th>\n",
       "      <td>KCPB</td>\n",
       "      <td>NC</td>\n",
       "      <td>BHE</td>\n",
       "      <td>--</td>\n",
       "      <td>20.0</td>\n",
       "      <td>2002/10/17,00:00:00</td>\n",
       "      <td>2006/01/24,18:00:00</td>\n",
       "      <td>39.68631</td>\n",
       "      <td>-123.58242</td>\n",
       "      <td>1261.0</td>\n",
       "      <td>0.0</td>\n",
       "      <td>0.0</td>\n",
       "      <td>90.0</td>\n",
       "    </tr>\n",
       "    <tr>\n",
       "      <th>3411</th>\n",
       "      <td>KCPB</td>\n",
       "      <td>NC</td>\n",
       "      <td>BHN</td>\n",
       "      <td>--</td>\n",
       "      <td>50.0</td>\n",
       "      <td>1999/08/03,00:00:00</td>\n",
       "      <td>2000/06/06,16:00:00</td>\n",
       "      <td>39.68631</td>\n",
       "      <td>-123.58242</td>\n",
       "      <td>1261.0</td>\n",
       "      <td>0.0</td>\n",
       "      <td>0.0</td>\n",
       "      <td>0.0</td>\n",
       "    </tr>\n",
       "    <tr>\n",
       "      <th>...</th>\n",
       "      <td>...</td>\n",
       "      <td>...</td>\n",
       "      <td>...</td>\n",
       "      <td>...</td>\n",
       "      <td>...</td>\n",
       "      <td>...</td>\n",
       "      <td>...</td>\n",
       "      <td>...</td>\n",
       "      <td>...</td>\n",
       "      <td>...</td>\n",
       "      <td>...</td>\n",
       "      <td>...</td>\n",
       "      <td>...</td>\n",
       "    </tr>\n",
       "    <tr>\n",
       "      <th>3666</th>\n",
       "      <td>KHBB</td>\n",
       "      <td>NC</td>\n",
       "      <td>LHZ</td>\n",
       "      <td>--</td>\n",
       "      <td>1.0</td>\n",
       "      <td>2016/04/28,16:56:00</td>\n",
       "      <td>2022/08/09,18:00:00</td>\n",
       "      <td>40.65990</td>\n",
       "      <td>-123.21966</td>\n",
       "      <td>1864.0</td>\n",
       "      <td>0.0</td>\n",
       "      <td>-90.0</td>\n",
       "      <td>0.0</td>\n",
       "    </tr>\n",
       "    <tr>\n",
       "      <th>3667</th>\n",
       "      <td>KHBB</td>\n",
       "      <td>NC</td>\n",
       "      <td>LHZ</td>\n",
       "      <td>--</td>\n",
       "      <td>1.0</td>\n",
       "      <td>2022/08/09,18:00:00</td>\n",
       "      <td>3000/01/01,00:00:00</td>\n",
       "      <td>40.65990</td>\n",
       "      <td>-123.21966</td>\n",
       "      <td>1864.0</td>\n",
       "      <td>0.0</td>\n",
       "      <td>-90.0</td>\n",
       "      <td>0.0</td>\n",
       "    </tr>\n",
       "    <tr>\n",
       "      <th>3668</th>\n",
       "      <td>KHBB</td>\n",
       "      <td>NC</td>\n",
       "      <td>LNE</td>\n",
       "      <td>--</td>\n",
       "      <td>1.0</td>\n",
       "      <td>2015/10/29,21:18:00</td>\n",
       "      <td>2016/04/28,16:56:00</td>\n",
       "      <td>40.65990</td>\n",
       "      <td>-123.21966</td>\n",
       "      <td>1864.0</td>\n",
       "      <td>0.0</td>\n",
       "      <td>0.0</td>\n",
       "      <td>90.0</td>\n",
       "    </tr>\n",
       "    <tr>\n",
       "      <th>3669</th>\n",
       "      <td>KHBB</td>\n",
       "      <td>NC</td>\n",
       "      <td>LNN</td>\n",
       "      <td>--</td>\n",
       "      <td>1.0</td>\n",
       "      <td>2015/10/29,21:18:00</td>\n",
       "      <td>2016/04/28,16:56:00</td>\n",
       "      <td>40.65990</td>\n",
       "      <td>-123.21966</td>\n",
       "      <td>1864.0</td>\n",
       "      <td>0.0</td>\n",
       "      <td>0.0</td>\n",
       "      <td>0.0</td>\n",
       "    </tr>\n",
       "    <tr>\n",
       "      <th>3670</th>\n",
       "      <td>KHBB</td>\n",
       "      <td>NC</td>\n",
       "      <td>LNZ</td>\n",
       "      <td>--</td>\n",
       "      <td>1.0</td>\n",
       "      <td>2015/10/29,21:18:00</td>\n",
       "      <td>2016/04/28,16:56:00</td>\n",
       "      <td>40.65990</td>\n",
       "      <td>-123.21966</td>\n",
       "      <td>1864.0</td>\n",
       "      <td>0.0</td>\n",
       "      <td>-90.0</td>\n",
       "      <td>0.0</td>\n",
       "    </tr>\n",
       "  </tbody>\n",
       "</table>\n",
       "<p>123 rows × 13 columns</p>\n",
       "</div>"
      ],
      "text/plain": [
       "     station network channel location  rate           start_time  \\\n",
       "3407    KCPB      NC     BHE       --  50.0  1999/08/03,00:00:00   \n",
       "3408    KCPB      NC     BHE       --  50.0  2000/06/06,16:00:00   \n",
       "3409    KCPB      NC     BHE       --  50.0  2002/01/24,23:50:00   \n",
       "3410    KCPB      NC     BHE       --  20.0  2002/10/17,00:00:00   \n",
       "3411    KCPB      NC     BHN       --  50.0  1999/08/03,00:00:00   \n",
       "...      ...     ...     ...      ...   ...                  ...   \n",
       "3666    KHBB      NC     LHZ       --   1.0  2016/04/28,16:56:00   \n",
       "3667    KHBB      NC     LHZ       --   1.0  2022/08/09,18:00:00   \n",
       "3668    KHBB      NC     LNE       --   1.0  2015/10/29,21:18:00   \n",
       "3669    KHBB      NC     LNN       --   1.0  2015/10/29,21:18:00   \n",
       "3670    KHBB      NC     LNZ       --   1.0  2015/10/29,21:18:00   \n",
       "\n",
       "                 end_time  latitude  longitude  elevation  depth   dip  \\\n",
       "3407  2000/06/06,16:00:00  39.68631 -123.58242     1261.0    0.0   0.0   \n",
       "3408  2002/01/24,23:50:00  39.68631 -123.58242     1261.0    0.0   0.0   \n",
       "3409  2002/10/16,23:59:00  39.68631 -123.58242     1261.0    0.0   0.0   \n",
       "3410  2006/01/24,18:00:00  39.68631 -123.58242     1261.0    0.0   0.0   \n",
       "3411  2000/06/06,16:00:00  39.68631 -123.58242     1261.0    0.0   0.0   \n",
       "...                   ...       ...        ...        ...    ...   ...   \n",
       "3666  2022/08/09,18:00:00  40.65990 -123.21966     1864.0    0.0 -90.0   \n",
       "3667  3000/01/01,00:00:00  40.65990 -123.21966     1864.0    0.0 -90.0   \n",
       "3668  2016/04/28,16:56:00  40.65990 -123.21966     1864.0    0.0   0.0   \n",
       "3669  2016/04/28,16:56:00  40.65990 -123.21966     1864.0    0.0   0.0   \n",
       "3670  2016/04/28,16:56:00  40.65990 -123.21966     1864.0    0.0 -90.0   \n",
       "\n",
       "      azimuth  \n",
       "3407     90.0  \n",
       "3408     90.0  \n",
       "3409     90.0  \n",
       "3410     90.0  \n",
       "3411      0.0  \n",
       "...       ...  \n",
       "3666      0.0  \n",
       "3667      0.0  \n",
       "3668     90.0  \n",
       "3669      0.0  \n",
       "3670      0.0  \n",
       "\n",
       "[123 rows x 13 columns]"
      ]
     },
     "execution_count": 25,
     "metadata": {},
     "output_type": "execute_result"
    }
   ],
   "source": [
    "# or like this\n",
    "data.loc[data.station.isin(['KCPB', 'KHBB'])]"
   ]
  },
  {
   "cell_type": "markdown",
   "id": "0c8cf1c9",
   "metadata": {},
   "source": [
    "We can access to a brief summary of the data:"
   ]
  },
  {
   "cell_type": "code",
   "execution_count": 26,
   "id": "f86eb768",
   "metadata": {},
   "outputs": [
    {
     "data": {
      "text/plain": [
       "count     7156\n",
       "unique     925\n",
       "top       KCPB\n",
       "freq        78\n",
       "Name: station, dtype: object"
      ]
     },
     "execution_count": 26,
     "metadata": {},
     "output_type": "execute_result"
    }
   ],
   "source": [
    "data.station.describe()"
   ]
  },
  {
   "cell_type": "code",
   "execution_count": 27,
   "id": "5b1aed53",
   "metadata": {},
   "outputs": [
    {
     "data": {
      "text/plain": [
       "count    7156.000000\n",
       "mean      663.180729\n",
       "std       670.157818\n",
       "min     -1388.000000\n",
       "25%       161.000000\n",
       "50%       442.000000\n",
       "75%       925.000000\n",
       "max      3680.000000\n",
       "Name: elevation, dtype: float64"
      ]
     },
     "execution_count": 27,
     "metadata": {},
     "output_type": "execute_result"
    }
   ],
   "source": [
    "data.elevation.describe()"
   ]
  },
  {
   "cell_type": "markdown",
   "id": "84e821e4",
   "metadata": {},
   "source": [
    "We can perform standard operations on the whole data set:"
   ]
  },
  {
   "cell_type": "code",
   "execution_count": null,
   "id": "99f17636",
   "metadata": {},
   "outputs": [],
   "source": [
    "data.mean()"
   ]
  },
  {
   "cell_type": "markdown",
   "id": "f13dea1f",
   "metadata": {},
   "source": [
    "In the case of a categorical variable, we can get the list of possile values that this variable can take:"
   ]
  },
  {
   "cell_type": "code",
   "execution_count": null,
   "id": "de5c4ffc",
   "metadata": {},
   "outputs": [],
   "source": [
    "data.channel.unique()"
   ]
  },
  {
   "cell_type": "markdown",
   "id": "2750a7ec",
   "metadata": {},
   "source": [
    "and get the number of times that each value is taken:"
   ]
  },
  {
   "cell_type": "code",
   "execution_count": 28,
   "id": "50049411",
   "metadata": {},
   "outputs": [
    {
     "data": {
      "text/plain": [
       "KCPB     78\n",
       "JSGB     73\n",
       "KMPB     72\n",
       "KHMB     63\n",
       "CCH1     60\n",
       "         ..\n",
       "IRG2E     1\n",
       "IRG3      1\n",
       "IRGCH     1\n",
       "IRGE      1\n",
       "WWVB      1\n",
       "Name: station, Length: 925, dtype: int64"
      ]
     },
     "execution_count": 28,
     "metadata": {},
     "output_type": "execute_result"
    }
   ],
   "source": [
    "data.station.value_counts()"
   ]
  },
  {
   "cell_type": "markdown",
   "id": "cec19797",
   "metadata": {},
   "source": [
    "There are several ways of doing an operation on all rows of a column. The first option is to use the map function.\n",
    "\n",
    "If you are not familiar with lambda function in Python, look at:\n",
    "\n",
    "https://realpython.com/python-lambda/\n",
    "\n",
    "We will practice a bit lambda functions"
   ]
  },
  {
   "cell_type": "code",
   "execution_count": 29,
   "id": "2e198ef6",
   "metadata": {},
   "outputs": [
    {
     "name": "stdout",
     "output_type": "stream",
     "text": [
      "2\n"
     ]
    }
   ],
   "source": [
    "# Let's create a function to return the difference between the input and a value\n",
    "\n",
    "b = 1 # b is declared outside of a function and is a GLOBAL variable\n",
    "\n",
    "def remove_elevation(x):\n",
    "    return x-b\n",
    "print(remove_elevation(3))"
   ]
  },
  {
   "cell_type": "code",
   "execution_count": null,
   "id": "00a06f40",
   "metadata": {},
   "outputs": [],
   "source": [
    "# now we are creating a function with a local variable\n",
    "def remove_elevation2(x):\n",
    "    b2=2 # b is now declared inside the function, is LOCAL, and cannot be called outside.\n",
    "    return x-b2\n",
    "print(remove_elevation2(3))\n",
    "# print(b2)"
   ]
  },
  {
   "cell_type": "code",
   "execution_count": 30,
   "id": "8587aea8",
   "metadata": {},
   "outputs": [],
   "source": [
    "# Now the equivalent in lambda is:\n",
    "remove_b = lambda x:x-b\n",
    " # b was defined above so it is a parameter. x is the variable"
   ]
  },
  {
   "cell_type": "code",
   "execution_count": 31,
   "id": "a52e93c5",
   "metadata": {},
   "outputs": [
    {
     "data": {
      "text/plain": [
       "2"
      ]
     },
     "execution_count": 31,
     "metadata": {},
     "output_type": "execute_result"
    }
   ],
   "source": [
    "remove_b(3)"
   ]
  },
  {
   "cell_type": "code",
   "execution_count": 32,
   "id": "24982f5b",
   "metadata": {},
   "outputs": [
    {
     "data": {
      "text/plain": [
       "2"
      ]
     },
     "execution_count": 32,
     "metadata": {},
     "output_type": "execute_result"
    }
   ],
   "source": [
    "# you can add several variables into lambda functions\n",
    "remove_anything = lambda x,y:x-y\n",
    "remove_anything(3,b)"
   ]
  },
  {
   "cell_type": "code",
   "execution_count": 37,
   "id": "9cef0bc7-13ec-44e7-9e11-8d2e016191f7",
   "metadata": {},
   "outputs": [
    {
     "data": {
      "text/plain": [
       "756.8741835147745"
      ]
     },
     "execution_count": 37,
     "metadata": {},
     "output_type": "execute_result"
    }
   ],
   "source": [
    "data.elevation.unique().mean()"
   ]
  },
  {
   "cell_type": "code",
   "execution_count": 38,
   "id": "42df3ff6",
   "metadata": {},
   "outputs": [
    {
     "name": "stdout",
     "output_type": "stream",
     "text": [
      "0       247.819271\n",
      "1       247.819271\n",
      "2       247.819271\n",
      "3      -632.180729\n",
      "4      -632.180729\n",
      "           ...    \n",
      "7151    414.819271\n",
      "7152    414.819271\n",
      "7153    414.819271\n",
      "7154    414.819271\n",
      "7155   -662.180729\n",
      "Name: elevation, Length: 7156, dtype: float64\n"
     ]
    }
   ],
   "source": [
    "data_elevation_mean = data.elevation.mean()\n",
    "newelevation=data.elevation.map(lambda p: p - data_elevation_mean)\n",
    "print(newelevation)"
   ]
  },
  {
   "cell_type": "markdown",
   "id": "b92f2364",
   "metadata": {},
   "source": [
    "The second option is to use the apply function:"
   ]
  },
  {
   "cell_type": "code",
   "execution_count": 34,
   "id": "9d2fd2c5",
   "metadata": {},
   "outputs": [
    {
     "data": {
      "text/html": [
       "<div>\n",
       "<style scoped>\n",
       "    .dataframe tbody tr th:only-of-type {\n",
       "        vertical-align: middle;\n",
       "    }\n",
       "\n",
       "    .dataframe tbody tr th {\n",
       "        vertical-align: top;\n",
       "    }\n",
       "\n",
       "    .dataframe thead th {\n",
       "        text-align: right;\n",
       "    }\n",
       "</style>\n",
       "<table border=\"1\" class=\"dataframe\">\n",
       "  <thead>\n",
       "    <tr style=\"text-align: right;\">\n",
       "      <th></th>\n",
       "      <th>station</th>\n",
       "      <th>network</th>\n",
       "      <th>channel</th>\n",
       "      <th>location</th>\n",
       "      <th>rate</th>\n",
       "      <th>start_time</th>\n",
       "      <th>end_time</th>\n",
       "      <th>latitude</th>\n",
       "      <th>longitude</th>\n",
       "      <th>elevation</th>\n",
       "      <th>depth</th>\n",
       "      <th>dip</th>\n",
       "      <th>azimuth</th>\n",
       "    </tr>\n",
       "  </thead>\n",
       "  <tbody>\n",
       "    <tr>\n",
       "      <th>0</th>\n",
       "      <td>AAR</td>\n",
       "      <td>NC</td>\n",
       "      <td>EHZ</td>\n",
       "      <td>--</td>\n",
       "      <td>100.0</td>\n",
       "      <td>1984/01/01,00:00:00</td>\n",
       "      <td>1987/05/01,00:00:00</td>\n",
       "      <td>39.27594</td>\n",
       "      <td>-121.02696</td>\n",
       "      <td>247.819271</td>\n",
       "      <td>0.0</td>\n",
       "      <td>-90.0</td>\n",
       "      <td>0.0</td>\n",
       "    </tr>\n",
       "    <tr>\n",
       "      <th>1</th>\n",
       "      <td>AAR</td>\n",
       "      <td>NC</td>\n",
       "      <td>EHZ</td>\n",
       "      <td>--</td>\n",
       "      <td>100.0</td>\n",
       "      <td>1987/05/01,00:00:00</td>\n",
       "      <td>2006/01/04,19:19:00</td>\n",
       "      <td>39.27594</td>\n",
       "      <td>-121.02696</td>\n",
       "      <td>247.819271</td>\n",
       "      <td>0.0</td>\n",
       "      <td>-90.0</td>\n",
       "      <td>0.0</td>\n",
       "    </tr>\n",
       "    <tr>\n",
       "      <th>2</th>\n",
       "      <td>AAR</td>\n",
       "      <td>NC</td>\n",
       "      <td>SHZ</td>\n",
       "      <td>--</td>\n",
       "      <td>20.0</td>\n",
       "      <td>1994/11/28,00:00:00</td>\n",
       "      <td>2006/01/04,19:19:00</td>\n",
       "      <td>39.27594</td>\n",
       "      <td>-121.02696</td>\n",
       "      <td>247.819271</td>\n",
       "      <td>0.0</td>\n",
       "      <td>-90.0</td>\n",
       "      <td>0.0</td>\n",
       "    </tr>\n",
       "    <tr>\n",
       "      <th>3</th>\n",
       "      <td>AAS</td>\n",
       "      <td>NC</td>\n",
       "      <td>EHZ</td>\n",
       "      <td>--</td>\n",
       "      <td>100.0</td>\n",
       "      <td>1984/11/27,18:45:00</td>\n",
       "      <td>1987/05/01,00:00:00</td>\n",
       "      <td>38.43014</td>\n",
       "      <td>-121.10959</td>\n",
       "      <td>-632.180729</td>\n",
       "      <td>0.0</td>\n",
       "      <td>-90.0</td>\n",
       "      <td>0.0</td>\n",
       "    </tr>\n",
       "    <tr>\n",
       "      <th>4</th>\n",
       "      <td>AAS</td>\n",
       "      <td>NC</td>\n",
       "      <td>EHZ</td>\n",
       "      <td>--</td>\n",
       "      <td>100.0</td>\n",
       "      <td>1987/05/01,00:00:00</td>\n",
       "      <td>2021/08/13,16:50:00</td>\n",
       "      <td>38.43014</td>\n",
       "      <td>-121.10959</td>\n",
       "      <td>-632.180729</td>\n",
       "      <td>0.0</td>\n",
       "      <td>-90.0</td>\n",
       "      <td>0.0</td>\n",
       "    </tr>\n",
       "    <tr>\n",
       "      <th>...</th>\n",
       "      <td>...</td>\n",
       "      <td>...</td>\n",
       "      <td>...</td>\n",
       "      <td>...</td>\n",
       "      <td>...</td>\n",
       "      <td>...</td>\n",
       "      <td>...</td>\n",
       "      <td>...</td>\n",
       "      <td>...</td>\n",
       "      <td>...</td>\n",
       "      <td>...</td>\n",
       "      <td>...</td>\n",
       "      <td>...</td>\n",
       "    </tr>\n",
       "    <tr>\n",
       "      <th>7151</th>\n",
       "      <td>WMP</td>\n",
       "      <td>NC</td>\n",
       "      <td>SHN</td>\n",
       "      <td>--</td>\n",
       "      <td>20.0</td>\n",
       "      <td>1995/07/02,12:00:00</td>\n",
       "      <td>2002/05/08,22:30:00</td>\n",
       "      <td>35.64059</td>\n",
       "      <td>-118.78570</td>\n",
       "      <td>414.819271</td>\n",
       "      <td>0.0</td>\n",
       "      <td>0.0</td>\n",
       "      <td>0.0</td>\n",
       "    </tr>\n",
       "    <tr>\n",
       "      <th>7152</th>\n",
       "      <td>WMP</td>\n",
       "      <td>NC</td>\n",
       "      <td>SHZ</td>\n",
       "      <td>--</td>\n",
       "      <td>20.0</td>\n",
       "      <td>1995/03/02,19:00:00</td>\n",
       "      <td>1995/07/02,12:00:00</td>\n",
       "      <td>35.64059</td>\n",
       "      <td>-118.78570</td>\n",
       "      <td>414.819271</td>\n",
       "      <td>0.0</td>\n",
       "      <td>-90.0</td>\n",
       "      <td>0.0</td>\n",
       "    </tr>\n",
       "    <tr>\n",
       "      <th>7153</th>\n",
       "      <td>WMP</td>\n",
       "      <td>NC</td>\n",
       "      <td>SHZ</td>\n",
       "      <td>--</td>\n",
       "      <td>20.0</td>\n",
       "      <td>1995/07/02,12:00:00</td>\n",
       "      <td>2002/05/08,22:30:00</td>\n",
       "      <td>35.64059</td>\n",
       "      <td>-118.78570</td>\n",
       "      <td>414.819271</td>\n",
       "      <td>0.0</td>\n",
       "      <td>-90.0</td>\n",
       "      <td>0.0</td>\n",
       "    </tr>\n",
       "    <tr>\n",
       "      <th>7154</th>\n",
       "      <td>WMP</td>\n",
       "      <td>NC</td>\n",
       "      <td>SHZ</td>\n",
       "      <td>10</td>\n",
       "      <td>20.0</td>\n",
       "      <td>1995/07/02,12:00:00</td>\n",
       "      <td>1999/05/11,23:59:00</td>\n",
       "      <td>35.64059</td>\n",
       "      <td>-118.78570</td>\n",
       "      <td>414.819271</td>\n",
       "      <td>0.0</td>\n",
       "      <td>-90.0</td>\n",
       "      <td>0.0</td>\n",
       "    </tr>\n",
       "    <tr>\n",
       "      <th>7155</th>\n",
       "      <td>WWVB</td>\n",
       "      <td>NC</td>\n",
       "      <td>ATT</td>\n",
       "      <td>--</td>\n",
       "      <td>100.0</td>\n",
       "      <td>1984/01/01,00:00:00</td>\n",
       "      <td>1999/03/20,23:59:00</td>\n",
       "      <td>0.00000</td>\n",
       "      <td>0.00000</td>\n",
       "      <td>-662.180729</td>\n",
       "      <td>0.0</td>\n",
       "      <td>0.0</td>\n",
       "      <td>0.0</td>\n",
       "    </tr>\n",
       "  </tbody>\n",
       "</table>\n",
       "<p>7156 rows × 13 columns</p>\n",
       "</div>"
      ],
      "text/plain": [
       "     station network channel location   rate           start_time  \\\n",
       "0        AAR      NC     EHZ       --  100.0  1984/01/01,00:00:00   \n",
       "1        AAR      NC     EHZ       --  100.0  1987/05/01,00:00:00   \n",
       "2        AAR      NC     SHZ       --   20.0  1994/11/28,00:00:00   \n",
       "3        AAS      NC     EHZ       --  100.0  1984/11/27,18:45:00   \n",
       "4        AAS      NC     EHZ       --  100.0  1987/05/01,00:00:00   \n",
       "...      ...     ...     ...      ...    ...                  ...   \n",
       "7151     WMP      NC     SHN       --   20.0  1995/07/02,12:00:00   \n",
       "7152     WMP      NC     SHZ       --   20.0  1995/03/02,19:00:00   \n",
       "7153     WMP      NC     SHZ       --   20.0  1995/07/02,12:00:00   \n",
       "7154     WMP      NC     SHZ       10   20.0  1995/07/02,12:00:00   \n",
       "7155    WWVB      NC     ATT       --  100.0  1984/01/01,00:00:00   \n",
       "\n",
       "                 end_time  latitude  longitude   elevation  depth   dip  \\\n",
       "0     1987/05/01,00:00:00  39.27594 -121.02696  247.819271    0.0 -90.0   \n",
       "1     2006/01/04,19:19:00  39.27594 -121.02696  247.819271    0.0 -90.0   \n",
       "2     2006/01/04,19:19:00  39.27594 -121.02696  247.819271    0.0 -90.0   \n",
       "3     1987/05/01,00:00:00  38.43014 -121.10959 -632.180729    0.0 -90.0   \n",
       "4     2021/08/13,16:50:00  38.43014 -121.10959 -632.180729    0.0 -90.0   \n",
       "...                   ...       ...        ...         ...    ...   ...   \n",
       "7151  2002/05/08,22:30:00  35.64059 -118.78570  414.819271    0.0   0.0   \n",
       "7152  1995/07/02,12:00:00  35.64059 -118.78570  414.819271    0.0 -90.0   \n",
       "7153  2002/05/08,22:30:00  35.64059 -118.78570  414.819271    0.0 -90.0   \n",
       "7154  1999/05/11,23:59:00  35.64059 -118.78570  414.819271    0.0 -90.0   \n",
       "7155  1999/03/20,23:59:00   0.00000    0.00000 -662.180729    0.0   0.0   \n",
       "\n",
       "      azimuth  \n",
       "0         0.0  \n",
       "1         0.0  \n",
       "2         0.0  \n",
       "3         0.0  \n",
       "4         0.0  \n",
       "...       ...  \n",
       "7151      0.0  \n",
       "7152      0.0  \n",
       "7153      0.0  \n",
       "7154      0.0  \n",
       "7155      0.0  \n",
       "\n",
       "[7156 rows x 13 columns]"
      ]
     },
     "execution_count": 34,
     "metadata": {},
     "output_type": "execute_result"
    }
   ],
   "source": [
    "def remean_elevation(row):\n",
    "    row.elevation = row.elevation - data_elevation_mean\n",
    "    return row\n",
    "data.apply(remean_elevation, axis='columns')"
   ]
  },
  {
   "cell_type": "markdown",
   "id": "5bfaf7a3",
   "metadata": {},
   "source": [
    "We can also carry out simple operations on columns, provided they make sense."
   ]
  },
  {
   "cell_type": "code",
   "execution_count": 39,
   "id": "720d9c32",
   "metadata": {},
   "outputs": [
    {
     "name": "stdout",
     "output_type": "stream",
     "text": [
      "0        NC.AAR\n",
      "1        NC.AAR\n",
      "2        NC.AAR\n",
      "3        NC.AAS\n",
      "4        NC.AAS\n",
      "         ...   \n",
      "7151     NC.WMP\n",
      "7152     NC.WMP\n",
      "7153     NC.WMP\n",
      "7154     NC.WMP\n",
      "7155    NC.WWVB\n",
      "Length: 7156, dtype: object\n",
      "<class 'pandas.core.series.Series'>\n"
     ]
    }
   ],
   "source": [
    "netsta=(data.network + '.' + data.station)\n",
    "print(netsta)\n",
    "print(type(netsta))"
   ]
  },
  {
   "cell_type": "code",
   "execution_count": null,
   "id": "6f67e2f2",
   "metadata": {},
   "outputs": [],
   "source": [
    "netsta=(data.network + '.' + data.station).values\n",
    "print(netsta)\n",
    "print(type(netsta))"
   ]
  },
  {
   "cell_type": "markdown",
   "id": "0b4800d2",
   "metadata": {},
   "source": [
    "A useful feature is to group the rows depending on the value of a categorical variable, and then apply the same operation to all the groups. For instance, we want to know how many times each station appears in the file:"
   ]
  },
  {
   "cell_type": "code",
   "execution_count": null,
   "id": "eb628370",
   "metadata": {},
   "outputs": [],
   "source": [
    "data.groupby('station').station.count()"
   ]
  },
  {
   "cell_type": "markdown",
   "id": "269dc15e",
   "metadata": {},
   "source": [
    "Or we want to know what is the lowest and the highest elevation for each station:"
   ]
  },
  {
   "cell_type": "code",
   "execution_count": null,
   "id": "2682149e",
   "metadata": {},
   "outputs": [],
   "source": [
    "data.groupby('station').elevation.min()"
   ]
  },
  {
   "cell_type": "markdown",
   "id": "b104a322",
   "metadata": {},
   "source": [
    "We can have access to the data type of each column:"
   ]
  },
  {
   "cell_type": "code",
   "execution_count": null,
   "id": "7a8a5666",
   "metadata": {},
   "outputs": [],
   "source": [
    "data.dtypes"
   ]
  },
  {
   "cell_type": "markdown",
   "id": "1dc2becd",
   "metadata": {},
   "source": [
    "Here, pandas does not recognize the start_time and end_time columns as a datetime format, so we cannot use datetime operations on them. We first need to convert these columns into a datetime format:"
   ]
  },
  {
   "cell_type": "code",
   "execution_count": null,
   "id": "81aceba7",
   "metadata": {},
   "outputs": [],
   "source": [
    "data.start_time.values()"
   ]
  },
  {
   "cell_type": "code",
   "execution_count": null,
   "id": "42ca267f",
   "metadata": {},
   "outputs": [],
   "source": [
    "type(data['start_time'][0])"
   ]
  },
  {
   "cell_type": "code",
   "execution_count": 40,
   "id": "985b6de3",
   "metadata": {},
   "outputs": [
    {
     "name": "stdout",
     "output_type": "stream",
     "text": [
      "0      1984-01-01 00:00:00\n",
      "1      1987-05-01 00:00:00\n",
      "2      1994-11-28 00:00:00\n",
      "3      1984-11-27 18:45:00\n",
      "4      1987-05-01 00:00:00\n",
      "               ...        \n",
      "7151   1995-07-02 12:00:00\n",
      "7152   1995-03-02 19:00:00\n",
      "7153   1995-07-02 12:00:00\n",
      "7154   1995-07-02 12:00:00\n",
      "7155   1984-01-01 00:00:00\n",
      "Name: start_time, Length: 7156, dtype: datetime64[ns]\n"
     ]
    },
    {
     "data": {
      "text/plain": [
       "pandas._libs.tslibs.timestamps.Timestamp"
      ]
     },
     "execution_count": 40,
     "metadata": {},
     "output_type": "execute_result"
    }
   ],
   "source": [
    "# Transform column from string into datetime format\n",
    "startdate = pd.to_datetime(data['start_time'], format='%Y/%m/%d,%H:%M:%S')\n",
    "data['start_time'] = startdate\n",
    "print(data['start_time'] )\n",
    "type(data['start_time'][0])"
   ]
  },
  {
   "cell_type": "code",
   "execution_count": null,
   "id": "43af3a25",
   "metadata": {},
   "outputs": [],
   "source": [
    "print(data['end_time'])"
   ]
  },
  {
   "cell_type": "code",
   "execution_count": null,
   "id": "a5afd1b1",
   "metadata": {},
   "outputs": [],
   "source": [
    "# do the same for end times\n",
    "# Avoid 'OutOfBoundsDatetime' error with year 3000\n",
    "enddate = data['end_time'].str.replace('3000', '2025')\n",
    "enddate = pd.to_datetime(enddate, format='%Y/%m/%d,%H:%M:%S')\n",
    "data['end_time'] = enddate"
   ]
  },
  {
   "cell_type": "markdown",
   "id": "8396171f",
   "metadata": {},
   "source": [
    "⚠️ Advanced exercise: You may notice that some stations have a latitude and longitude of zero. Clean up the data frame and report it to the class. "
   ]
  },
  {
   "cell_type": "code",
   "execution_count": null,
   "id": "3c15167b",
   "metadata": {},
   "outputs": [],
   "source": [
    "# enter your answers here."
   ]
  },
  {
   "cell_type": "markdown",
   "id": "5fe088ce",
   "metadata": {},
   "source": [
    "We can now look when each seismic station was installed:"
   ]
  },
  {
   "cell_type": "code",
   "execution_count": null,
   "id": "6aea9f1f",
   "metadata": {},
   "outputs": [],
   "source": [
    "data.groupby('station').apply(lambda df: df.start_time.min())"
   ]
  },
  {
   "cell_type": "markdown",
   "id": "d107f1b9",
   "metadata": {},
   "source": [
    "The ``agg`` function allows to carry out several operations to each group of rows:"
   ]
  },
  {
   "cell_type": "markdown",
   "id": "0a86283e",
   "metadata": {},
   "source": [
    "Select the stations that were deployed first and recovered last"
   ]
  },
  {
   "cell_type": "code",
   "execution_count": null,
   "id": "2f2fe517",
   "metadata": {},
   "outputs": [],
   "source": [
    "data.groupby(['station']).agg({'start_time':lambda x: min(x), 'end_time':lambda x: max(x)})"
   ]
  },
  {
   "cell_type": "markdown",
   "id": "b8509ce2",
   "metadata": {},
   "source": [
    "We can also make groups by selecting the values of two categorical variables:"
   ]
  },
  {
   "cell_type": "code",
   "execution_count": null,
   "id": "dc59c0b1",
   "metadata": {},
   "outputs": [],
   "source": [
    "data.groupby(['station', 'channel']).agg({'start_time':lambda x: min(x), 'end_time':lambda x: max(x)})"
   ]
  },
  {
   "cell_type": "markdown",
   "id": "8ff5c978",
   "metadata": {},
   "source": [
    "Previously, we just printed the output, but we can also store it in a new variable:"
   ]
  },
  {
   "cell_type": "code",
   "execution_count": null,
   "id": "81c5a7f7",
   "metadata": {},
   "outputs": [],
   "source": [
    "data_grouped = data.groupby(['station', 'channel']).agg({'start_time':lambda x: min(x), 'end_time':lambda x: max(x)})"
   ]
  },
  {
   "cell_type": "markdown",
   "id": "77003692",
   "metadata": {},
   "source": [
    "Print the new dataframe and look at the rows indexes. Anything wrong?"
   ]
  },
  {
   "cell_type": "code",
   "execution_count": null,
   "id": "49ceaad6",
   "metadata": {},
   "outputs": [],
   "source": [
    "# enter code here"
   ]
  },
  {
   "cell_type": "code",
   "execution_count": null,
   "id": "454126d7",
   "metadata": {},
   "outputs": [],
   "source": []
  },
  {
   "cell_type": "markdown",
   "id": "21a14e87",
   "metadata": {},
   "source": [
    "When we select only some rows, the index is not automatically reset to start at 0. We can do it manually. Many functions in pandas have also an option to reset the index, and option to transform the dataframe in place, instead of saving the results in another variable."
   ]
  },
  {
   "cell_type": "code",
   "execution_count": null,
   "id": "75e91221",
   "metadata": {},
   "outputs": [],
   "source": [
    "data_grouped.reset_index()"
   ]
  },
  {
   "cell_type": "markdown",
   "id": "ca2c76c3",
   "metadata": {},
   "source": [
    "It is also possible to sort the dataset by value."
   ]
  },
  {
   "cell_type": "code",
   "execution_count": null,
   "id": "00fe3413",
   "metadata": {},
   "outputs": [],
   "source": [
    "data_grouped.sort_values(by='start_time')"
   ]
  },
  {
   "cell_type": "markdown",
   "id": "d6cdcd7c",
   "metadata": {},
   "source": [
    "We can apply the sorting to several columns:"
   ]
  },
  {
   "cell_type": "code",
   "execution_count": null,
   "id": "166b989c",
   "metadata": {},
   "outputs": [],
   "source": [
    "data_grouped.sort_values(by=['start_time', 'end_time'])"
   ]
  },
  {
   "cell_type": "markdown",
   "id": "553cccfe",
   "metadata": {},
   "source": [
    "The ``merge`` function allows to merge two dataframes that have some but not all columns in common.\n",
    "\n",
    "\n",
    "Now, we are going to merge this seismic metadata frame to the one from the Pacific Northwest Seismic Network and other stations that were deployed in the area. The file is a CSV file. Read the file and describe the data\n",
    "\n"
   ]
  },
  {
   "cell_type": "code",
   "execution_count": null,
   "id": "fbfde5ae",
   "metadata": {},
   "outputs": [],
   "source": [
    "# enter response here\n",
    "data_pnw=pd.read_csv('PNSN_meta.csv')"
   ]
  },
  {
   "cell_type": "code",
   "execution_count": null,
   "id": "1abef0a3",
   "metadata": {},
   "outputs": [],
   "source": [
    "data_pnw.head()"
   ]
  },
  {
   "cell_type": "markdown",
   "id": "9f92398f",
   "metadata": {},
   "source": [
    "You will notice that this file contains odd times for starttime and end times. The keys are also different from the previous dataframe. In order to compare them and concatenate both metadata, we want to at least have common keys.\n",
    "\n",
    "First, make sure that both dataframes have common keys. Use the function [``rename``](https://pandas.pydata.org/docs/reference/api/pandas.DataFrame.rename.html) from ``pandas`` to rename the keys in data_pnw."
   ]
  },
  {
   "cell_type": "code",
   "execution_count": null,
   "id": "9e150e57",
   "metadata": {},
   "outputs": [],
   "source": [
    "# enter answer below"
   ]
  },
  {
   "cell_type": "markdown",
   "id": "d10e46c2",
   "metadata": {},
   "source": [
    "Then convert the time stamps of start_time and end_time into date time objects. "
   ]
  },
  {
   "cell_type": "code",
   "execution_count": null,
   "id": "1a3bf3e4",
   "metadata": {},
   "outputs": [],
   "source": [
    "# Let's work together (i could not fix it!)\n",
    "\n",
    "# L=len(data_pnw['starttime'])\n",
    "# newdt = np.ndarray(L,dtype=np.datetime64)\n",
    "# for icrap in range(len(data_pnw['starttime'])):\n",
    "#     print(icrap)\n",
    "#     print(type(data_pnw['starttime'][icrap]))\n",
    "#     print(data_pnw['starttime'][icrap])\n",
    "#     newdt[icrap]= datetime.fromtimestamp(data_pnw['starttime'][icrap])\n",
    "# print(newdt)\n",
    "# print(data_pnw.starttime)\n",
    "\n",
    "# startdate = pd.to_timedelta(data_pnw['starttime'])\n",
    "# startdate = pd.to_timedelta(datetime.fromtimestamp(data_pnw.starttime), format='%Y/%m/%d,%H:%M:%S')\n",
    "# print(startdate)"
   ]
  },
  {
   "cell_type": "code",
   "execution_count": null,
   "id": "19907b63",
   "metadata": {},
   "outputs": [],
   "source": []
  },
  {
   "cell_type": "code",
   "execution_count": null,
   "id": "f730c15f",
   "metadata": {},
   "outputs": [],
   "source": [
    "df = pd.concat([data,data_pnw],ignore_index=True)"
   ]
  },
  {
   "cell_type": "code",
   "execution_count": null,
   "id": "a2c86fec",
   "metadata": {},
   "outputs": [],
   "source": [
    "# Earthquakes in filtered 2007-2009 catalog but not in (unfiltered) 2004-2011 catalog\n",
    "df_all = pd.concat([df2, df1_filter], ignore_index=True)\n",
    "df_merge = df_all.merge(df2.drop_duplicates(), on=['date'], how='left', indicator=True)\n",
    "df_added_1 = df_merge[df_merge['_merge'] == 'left_only']\n",
    "\n",
    "# Earthquakes in filtered 2004-2011 catalog but not in (unfiltered) 2007-2009 catalog\n",
    "df_all = pd.concat([df1, df2_filter], ignore_index=True)\n",
    "df_merge = df_all.merge(df1.drop_duplicates(), on=['date'], how='left', indicator=True)\n",
    "df_added_2 = df_merge[df_merge['_merge'] == 'left_only']"
   ]
  },
  {
   "cell_type": "code",
   "execution_count": null,
   "id": "7caf81d9",
   "metadata": {},
   "outputs": [],
   "source": []
  },
  {
   "cell_type": "markdown",
   "id": "e936cf31",
   "metadata": {},
   "source": [
    "### Overview of Earthquake catalog"
   ]
  },
  {
   "cell_type": "code",
   "execution_count": null,
   "id": "ecfbb681",
   "metadata": {},
   "outputs": [],
   "source": [
    "quake=pd.read_csv('Global_Quakes_IRIS.csv')\n",
    "quake.head()"
   ]
  },
  {
   "cell_type": "markdown",
   "id": "f22e23a6",
   "metadata": {},
   "source": [
    "* Plot the earthquakes using Plotly functionality.\n",
    "\n",
    "Use \"description\" as a hover name. \n",
    "\n",
    "Use \"marker_size\" for size and color the markers using the key 'magnitude'.\n",
    "\n",
    "Use \"magnitude\" and \"depth\" as hover data."
   ]
  },
  {
   "cell_type": "code",
   "execution_count": null,
   "id": "11c07fd4",
   "metadata": {},
   "outputs": [],
   "source": [
    "# enter answer here"
   ]
  },
  {
   "cell_type": "markdown",
   "id": "42c710ec",
   "metadata": {},
   "source": [
    "Using ``matplotlib``, make a histogram of the magnitude distribution of these earthquakes. Find a way to plot the y-axis in log scale."
   ]
  },
  {
   "cell_type": "code",
   "execution_count": null,
   "id": "1a050f55",
   "metadata": {},
   "outputs": [],
   "source": [
    "# enter answer here"
   ]
  }
 ],
 "metadata": {
  "kernelspec": {
   "display_name": "Python 3 (ipykernel)",
   "language": "python",
   "name": "python3"
  },
  "language_info": {
   "codemirror_mode": {
    "name": "ipython",
    "version": 3
   },
   "file_extension": ".py",
   "mimetype": "text/x-python",
   "name": "python",
   "nbconvert_exporter": "python",
   "pygments_lexer": "ipython3",
   "version": "3.9.13"
  },
  "vscode": {
   "interpreter": {
    "hash": "1c2df93b363d800c8a9b94963221f1be1d8deaf6a76f83b6b9a486ad05d69583"
   }
  }
 },
 "nbformat": 4,
 "nbformat_minor": 5
}
