{
 "cells": [
  {
   "cell_type": "markdown",
   "metadata": {},
   "source": [
    "# 3.5 Hyperparameter Tuning\n",
    "\n",
    "The choice of model parameters that is optimal for the specific problem can be found automatically by searching the model parameter space. The type of algorithm is fixed in this instance.\n",
    "\n",
    "There are built-in toolkits to perform the hyperparameter search."
   ]
  },
  {
   "cell_type": "code",
   "execution_count": 1,
   "metadata": {},
   "outputs": [],
   "source": [
    "# basic tools\n",
    "import numpy as np\n",
    "import matplotlib.pyplot as plt\n",
    "from sklearn.model_selection import train_test_split\n",
    "import wget\n",
    "import h5py\n",
    "import pandas as pd\n",
    "import os"
   ]
  },
  {
   "cell_type": "code",
   "execution_count": 2,
   "metadata": {},
   "outputs": [
    {
     "data": {
      "text/plain": [
       "dict_keys(['data', 'target', 'frame', 'feature_names', 'target_names', 'images', 'DESCR'])"
      ]
     },
     "execution_count": 2,
     "metadata": {},
     "output_type": "execute_result"
    }
   ],
   "source": [
    "import numpy as np\n",
    "from sklearn.datasets import load_digits,fetch_openml\n",
    "digits = load_digits()\n",
    "digits.keys()"
   ]
  },
  {
   "cell_type": "code",
   "execution_count": 3,
   "metadata": {},
   "outputs": [
    {
     "name": "stdout",
     "output_type": "stream",
     "text": [
      "<class 'numpy.ndarray'> <class 'numpy.int64'>\n"
     ]
    }
   ],
   "source": [
    "# explore data type\n",
    "data,y = digits[\"data\"].copy(),digits[\"target\"].copy()\n",
    "print(type(data[0][:]),type(y[0]))\n",
    "# note that we do not modify the raw data that is stored on the digits dictionary."
   ]
  },
  {
   "cell_type": "code",
   "execution_count": 4,
   "metadata": {},
   "outputs": [
    {
     "name": "stdout",
     "output_type": "stream",
     "text": [
      "0.0 15.0\n",
      "There are 1797 data samples\n"
     ]
    }
   ],
   "source": [
    "print(min(data[0]),max(data[0]))\n",
    "from sklearn.preprocessing import MinMaxScaler\n",
    "from sklearn.model_selection import train_test_split\n",
    "scaler = MinMaxScaler()\n",
    "scaler.fit_transform(data)# fit the model for data normalization\n",
    "newdata = scaler.transform(data) # transform the data. watch that data was converted to a numpy array\n",
    "\n",
    "# Split data into 50% train and 50% test subsets\n",
    "print(f\"There are {data.shape[0]} data samples\")\n",
    "X_train, X_test, y_train, y_test = train_test_split(\n",
    "    data, y, test_size=0.2, shuffle=False)\n"
   ]
  },
  {
   "cell_type": "code",
   "execution_count": 5,
   "metadata": {},
   "outputs": [
    {
     "name": "stdout",
     "output_type": "stream",
     "text": [
      "SVC Accuracy: 0.9583333333333334\n"
     ]
    }
   ],
   "source": [
    "import sklearn\n",
    "from sklearn import metrics\n",
    "from sklearn.svm import SVC\n",
    "from sklearn.neighbors import KNeighborsClassifier\n",
    "from sklearn.ensemble import RandomForestClassifier\n",
    "\n",
    "# Support Vector Machine classifier\n",
    "clf = SVC(gamma=0.001) # model design\n",
    "clf.fit(X_train, y_train) # learn\n",
    "svc_prediction = clf.predict(X_test) # predict on test\n",
    "print(\"SVC Accuracy:\", metrics.accuracy_score(y_true=y_test ,y_pred=svc_prediction))\n"
   ]
  },
  {
   "cell_type": "markdown",
   "metadata": {},
   "source": [
    "what are the parameters we are trying to optimize?"
   ]
  },
  {
   "cell_type": "code",
   "execution_count": 6,
   "metadata": {},
   "outputs": [
    {
     "data": {
      "text/plain": [
       "{'C': 1.0,\n",
       " 'break_ties': False,\n",
       " 'cache_size': 200,\n",
       " 'class_weight': None,\n",
       " 'coef0': 0.0,\n",
       " 'decision_function_shape': 'ovr',\n",
       " 'degree': 3,\n",
       " 'gamma': 0.001,\n",
       " 'kernel': 'rbf',\n",
       " 'max_iter': -1,\n",
       " 'probability': False,\n",
       " 'random_state': None,\n",
       " 'shrinking': True,\n",
       " 'tol': 0.001,\n",
       " 'verbose': False}"
      ]
     },
     "execution_count": 6,
     "metadata": {},
     "output_type": "execute_result"
    }
   ],
   "source": [
    "clf.get_params()"
   ]
  },
  {
   "cell_type": "markdown",
   "metadata": {},
   "source": [
    "A search consists of:\n",
    "\n",
    "* an estimator (regressor or classifier such as ``SVC()``);\n",
    "\n",
    "* a parameter space;\n",
    "\n",
    "* a method for searching or sampling candidates;\n",
    "\n",
    "* a cross-validation scheme; and\n",
    "\n",
    "* a loss function.\n",
    "\n",
    "\n",
    "## 1. Grid Search cross validation. \n",
    "Performs the search in the brute-force way using cross-validation. One has to define the parameter space. The scikit-learn function is ``GridSearchCV``. More details [here](!https://scikit-learn.org/stable/modules/generated/sklearn.model_selection.GridSearchCV.html).\n",
    "\n",
    "\n",
    "\n"
   ]
  },
  {
   "cell_type": "code",
   "execution_count": 7,
   "metadata": {},
   "outputs": [],
   "source": [
    "from sklearn.model_selection import GridSearchCV\n",
    "param_grid = [\n",
    "  {'C': [1, 5,10,50, 100,500, 1000], 'kernel': ['linear']},\n",
    "  {'C': [1,5, 10,50, 100,500, 1000], 'gamma': [0.01,0.001, 0.0001], 'kernel': ['rbf']},\n",
    " ]"
   ]
  },
  {
   "cell_type": "markdown",
   "metadata": {},
   "source": [
    "The algorithm will search for all combinations of parameters, which can be from the model algorithms or the choice of features."
   ]
  },
  {
   "cell_type": "code",
   "execution_count": 8,
   "metadata": {},
   "outputs": [],
   "source": [
    "search = GridSearchCV(clf, param_grid, cv=5,verbose=3)"
   ]
  },
  {
   "cell_type": "code",
   "execution_count": 9,
   "metadata": {},
   "outputs": [
    {
     "name": "stdout",
     "output_type": "stream",
     "text": [
      "Fitting 5 folds for each of 28 candidates, totalling 140 fits\n",
      "[CV 1/5] END ................C=1, kernel=linear;, score=0.948 total time=   0.0s\n",
      "[CV 2/5] END ................C=1, kernel=linear;, score=0.948 total time=   0.0s\n",
      "[CV 3/5] END ................C=1, kernel=linear;, score=0.944 total time=   0.0s\n",
      "[CV 4/5] END ................C=1, kernel=linear;, score=0.965 total time=   0.0s\n",
      "[CV 5/5] END ................C=1, kernel=linear;, score=0.972 total time=   0.0s\n",
      "[CV 1/5] END ................C=5, kernel=linear;, score=0.948 total time=   0.0s\n",
      "[CV 2/5] END ................C=5, kernel=linear;, score=0.948 total time=   0.0s\n",
      "[CV 3/5] END ................C=5, kernel=linear;, score=0.944 total time=   0.0s\n",
      "[CV 4/5] END ................C=5, kernel=linear;, score=0.965 total time=   0.0s\n",
      "[CV 5/5] END ................C=5, kernel=linear;, score=0.972 total time=   0.0s\n",
      "[CV 1/5] END ...............C=10, kernel=linear;, score=0.948 total time=   0.0s\n",
      "[CV 2/5] END ...............C=10, kernel=linear;, score=0.948 total time=   0.0s\n",
      "[CV 3/5] END ...............C=10, kernel=linear;, score=0.944 total time=   0.0s\n",
      "[CV 4/5] END ...............C=10, kernel=linear;, score=0.965 total time=   0.0s\n",
      "[CV 5/5] END ...............C=10, kernel=linear;, score=0.972 total time=   0.0s\n",
      "[CV 1/5] END ...............C=50, kernel=linear;, score=0.948 total time=   0.0s\n",
      "[CV 2/5] END ...............C=50, kernel=linear;, score=0.948 total time=   0.0s\n",
      "[CV 3/5] END ...............C=50, kernel=linear;, score=0.944 total time=   0.0s\n",
      "[CV 4/5] END ...............C=50, kernel=linear;, score=0.965 total time=   0.0s\n",
      "[CV 5/5] END ...............C=50, kernel=linear;, score=0.972 total time=   0.0s\n",
      "[CV 1/5] END ..............C=100, kernel=linear;, score=0.948 total time=   0.0s\n",
      "[CV 2/5] END ..............C=100, kernel=linear;, score=0.948 total time=   0.0s\n",
      "[CV 3/5] END ..............C=100, kernel=linear;, score=0.944 total time=   0.0s\n",
      "[CV 4/5] END ..............C=100, kernel=linear;, score=0.965 total time=   0.0s\n",
      "[CV 5/5] END ..............C=100, kernel=linear;, score=0.972 total time=   0.0s\n",
      "[CV 1/5] END ..............C=500, kernel=linear;, score=0.948 total time=   0.0s\n",
      "[CV 2/5] END ..............C=500, kernel=linear;, score=0.948 total time=   0.0s\n",
      "[CV 3/5] END ..............C=500, kernel=linear;, score=0.944 total time=   0.0s\n",
      "[CV 4/5] END ..............C=500, kernel=linear;, score=0.965 total time=   0.0s\n",
      "[CV 5/5] END ..............C=500, kernel=linear;, score=0.972 total time=   0.0s\n",
      "[CV 1/5] END .............C=1000, kernel=linear;, score=0.948 total time=   0.0s\n",
      "[CV 2/5] END .............C=1000, kernel=linear;, score=0.948 total time=   0.0s\n",
      "[CV 3/5] END .............C=1000, kernel=linear;, score=0.944 total time=   0.0s\n",
      "[CV 4/5] END .............C=1000, kernel=linear;, score=0.965 total time=   0.0s\n",
      "[CV 5/5] END .............C=1000, kernel=linear;, score=0.972 total time=   0.0s\n",
      "[CV 1/5] END .......C=1, gamma=0.01, kernel=rbf;, score=0.608 total time=   0.2s\n",
      "[CV 2/5] END .......C=1, gamma=0.01, kernel=rbf;, score=0.733 total time=   0.2s\n",
      "[CV 3/5] END .......C=1, gamma=0.01, kernel=rbf;, score=0.686 total time=   0.2s\n",
      "[CV 4/5] END .......C=1, gamma=0.01, kernel=rbf;, score=0.711 total time=   0.3s\n",
      "[CV 5/5] END .......C=1, gamma=0.01, kernel=rbf;, score=0.725 total time=   0.2s\n",
      "[CV 1/5] END ......C=1, gamma=0.001, kernel=rbf;, score=0.955 total time=   0.1s\n",
      "[CV 2/5] END ......C=1, gamma=0.001, kernel=rbf;, score=0.979 total time=   0.1s\n",
      "[CV 3/5] END ......C=1, gamma=0.001, kernel=rbf;, score=0.976 total time=   0.1s\n",
      "[CV 4/5] END ......C=1, gamma=0.001, kernel=rbf;, score=0.976 total time=   0.1s\n",
      "[CV 5/5] END ......C=1, gamma=0.001, kernel=rbf;, score=0.983 total time=   0.1s\n",
      "[CV 1/5] END .....C=1, gamma=0.0001, kernel=rbf;, score=0.910 total time=   0.1s\n",
      "[CV 2/5] END .....C=1, gamma=0.0001, kernel=rbf;, score=0.955 total time=   0.1s\n",
      "[CV 3/5] END .....C=1, gamma=0.0001, kernel=rbf;, score=0.920 total time=   0.1s\n",
      "[CV 4/5] END .....C=1, gamma=0.0001, kernel=rbf;, score=0.965 total time=   0.1s\n",
      "[CV 5/5] END .....C=1, gamma=0.0001, kernel=rbf;, score=0.976 total time=   0.1s\n",
      "[CV 1/5] END .......C=5, gamma=0.01, kernel=rbf;, score=0.628 total time=   0.2s\n",
      "[CV 2/5] END .......C=5, gamma=0.01, kernel=rbf;, score=0.747 total time=   0.3s\n",
      "[CV 3/5] END .......C=5, gamma=0.01, kernel=rbf;, score=0.697 total time=   0.2s\n",
      "[CV 4/5] END .......C=5, gamma=0.01, kernel=rbf;, score=0.718 total time=   0.2s\n",
      "[CV 5/5] END .......C=5, gamma=0.01, kernel=rbf;, score=0.732 total time=   0.2s\n",
      "[CV 1/5] END ......C=5, gamma=0.001, kernel=rbf;, score=0.969 total time=   0.1s\n",
      "[CV 2/5] END ......C=5, gamma=0.001, kernel=rbf;, score=0.986 total time=   0.1s\n",
      "[CV 3/5] END ......C=5, gamma=0.001, kernel=rbf;, score=0.976 total time=   0.1s\n",
      "[CV 4/5] END ......C=5, gamma=0.001, kernel=rbf;, score=0.969 total time=   0.1s\n",
      "[CV 5/5] END ......C=5, gamma=0.001, kernel=rbf;, score=0.986 total time=   0.1s\n",
      "[CV 1/5] END .....C=5, gamma=0.0001, kernel=rbf;, score=0.951 total time=   0.1s\n",
      "[CV 2/5] END .....C=5, gamma=0.0001, kernel=rbf;, score=0.965 total time=   0.0s\n",
      "[CV 3/5] END .....C=5, gamma=0.0001, kernel=rbf;, score=0.965 total time=   0.0s\n",
      "[CV 4/5] END .....C=5, gamma=0.0001, kernel=rbf;, score=0.976 total time=   0.0s\n",
      "[CV 5/5] END .....C=5, gamma=0.0001, kernel=rbf;, score=0.976 total time=   0.0s\n",
      "[CV 1/5] END ......C=10, gamma=0.01, kernel=rbf;, score=0.628 total time=   0.2s\n",
      "[CV 2/5] END ......C=10, gamma=0.01, kernel=rbf;, score=0.747 total time=   0.2s\n",
      "[CV 3/5] END ......C=10, gamma=0.01, kernel=rbf;, score=0.697 total time=   0.2s\n",
      "[CV 4/5] END ......C=10, gamma=0.01, kernel=rbf;, score=0.718 total time=   0.3s\n",
      "[CV 5/5] END ......C=10, gamma=0.01, kernel=rbf;, score=0.732 total time=   0.3s\n",
      "[CV 1/5] END .....C=10, gamma=0.001, kernel=rbf;, score=0.969 total time=   0.1s\n",
      "[CV 2/5] END .....C=10, gamma=0.001, kernel=rbf;, score=0.986 total time=   0.1s\n",
      "[CV 3/5] END .....C=10, gamma=0.001, kernel=rbf;, score=0.976 total time=   0.1s\n",
      "[CV 4/5] END .....C=10, gamma=0.001, kernel=rbf;, score=0.969 total time=   0.1s\n",
      "[CV 5/5] END .....C=10, gamma=0.001, kernel=rbf;, score=0.986 total time=   0.1s\n",
      "[CV 1/5] END ....C=10, gamma=0.0001, kernel=rbf;, score=0.969 total time=   0.1s\n",
      "[CV 2/5] END ....C=10, gamma=0.0001, kernel=rbf;, score=0.958 total time=   0.0s\n",
      "[CV 3/5] END ....C=10, gamma=0.0001, kernel=rbf;, score=0.965 total time=   0.0s\n",
      "[CV 4/5] END ....C=10, gamma=0.0001, kernel=rbf;, score=0.969 total time=   0.0s\n",
      "[CV 5/5] END ....C=10, gamma=0.0001, kernel=rbf;, score=0.983 total time=   0.0s\n",
      "[CV 1/5] END ......C=50, gamma=0.01, kernel=rbf;, score=0.628 total time=   0.2s\n",
      "[CV 2/5] END ......C=50, gamma=0.01, kernel=rbf;, score=0.747 total time=   0.2s\n",
      "[CV 3/5] END ......C=50, gamma=0.01, kernel=rbf;, score=0.697 total time=   0.2s\n",
      "[CV 4/5] END ......C=50, gamma=0.01, kernel=rbf;, score=0.718 total time=   0.2s\n",
      "[CV 5/5] END ......C=50, gamma=0.01, kernel=rbf;, score=0.732 total time=   0.3s\n",
      "[CV 1/5] END .....C=50, gamma=0.001, kernel=rbf;, score=0.969 total time=   0.1s\n",
      "[CV 2/5] END .....C=50, gamma=0.001, kernel=rbf;, score=0.986 total time=   0.1s\n",
      "[CV 3/5] END .....C=50, gamma=0.001, kernel=rbf;, score=0.976 total time=   0.1s\n",
      "[CV 4/5] END .....C=50, gamma=0.001, kernel=rbf;, score=0.969 total time=   0.1s\n",
      "[CV 5/5] END .....C=50, gamma=0.001, kernel=rbf;, score=0.986 total time=   0.1s\n",
      "[CV 1/5] END ....C=50, gamma=0.0001, kernel=rbf;, score=0.965 total time=   0.0s\n",
      "[CV 2/5] END ....C=50, gamma=0.0001, kernel=rbf;, score=0.955 total time=   0.0s\n",
      "[CV 3/5] END ....C=50, gamma=0.0001, kernel=rbf;, score=0.958 total time=   0.0s\n",
      "[CV 4/5] END ....C=50, gamma=0.0001, kernel=rbf;, score=0.969 total time=   0.0s\n",
      "[CV 5/5] END ....C=50, gamma=0.0001, kernel=rbf;, score=0.979 total time=   0.0s\n",
      "[CV 1/5] END .....C=100, gamma=0.01, kernel=rbf;, score=0.628 total time=   0.3s\n",
      "[CV 2/5] END .....C=100, gamma=0.01, kernel=rbf;, score=0.747 total time=   0.3s\n",
      "[CV 3/5] END .....C=100, gamma=0.01, kernel=rbf;, score=0.697 total time=   0.2s\n",
      "[CV 4/5] END .....C=100, gamma=0.01, kernel=rbf;, score=0.718 total time=   0.2s\n",
      "[CV 5/5] END .....C=100, gamma=0.01, kernel=rbf;, score=0.732 total time=   0.2s\n",
      "[CV 1/5] END ....C=100, gamma=0.001, kernel=rbf;, score=0.969 total time=   0.1s\n",
      "[CV 2/5] END ....C=100, gamma=0.001, kernel=rbf;, score=0.986 total time=   0.1s\n",
      "[CV 3/5] END ....C=100, gamma=0.001, kernel=rbf;, score=0.976 total time=   0.1s\n",
      "[CV 4/5] END ....C=100, gamma=0.001, kernel=rbf;, score=0.969 total time=   0.1s\n",
      "[CV 5/5] END ....C=100, gamma=0.001, kernel=rbf;, score=0.986 total time=   0.1s\n",
      "[CV 1/5] END ...C=100, gamma=0.0001, kernel=rbf;, score=0.965 total time=   0.0s\n",
      "[CV 2/5] END ...C=100, gamma=0.0001, kernel=rbf;, score=0.955 total time=   0.0s\n",
      "[CV 3/5] END ...C=100, gamma=0.0001, kernel=rbf;, score=0.958 total time=   0.0s\n",
      "[CV 4/5] END ...C=100, gamma=0.0001, kernel=rbf;, score=0.969 total time=   0.0s\n",
      "[CV 5/5] END ...C=100, gamma=0.0001, kernel=rbf;, score=0.979 total time=   0.1s\n",
      "[CV 1/5] END .....C=500, gamma=0.01, kernel=rbf;, score=0.628 total time=   0.3s\n",
      "[CV 2/5] END .....C=500, gamma=0.01, kernel=rbf;, score=0.747 total time=   0.3s\n",
      "[CV 3/5] END .....C=500, gamma=0.01, kernel=rbf;, score=0.697 total time=   0.3s\n",
      "[CV 4/5] END .....C=500, gamma=0.01, kernel=rbf;, score=0.718 total time=   0.2s\n",
      "[CV 5/5] END .....C=500, gamma=0.01, kernel=rbf;, score=0.732 total time=   0.3s\n",
      "[CV 1/5] END ....C=500, gamma=0.001, kernel=rbf;, score=0.969 total time=   0.1s\n",
      "[CV 2/5] END ....C=500, gamma=0.001, kernel=rbf;, score=0.986 total time=   0.1s\n",
      "[CV 3/5] END ....C=500, gamma=0.001, kernel=rbf;, score=0.976 total time=   0.1s\n",
      "[CV 4/5] END ....C=500, gamma=0.001, kernel=rbf;, score=0.969 total time=   0.1s\n",
      "[CV 5/5] END ....C=500, gamma=0.001, kernel=rbf;, score=0.986 total time=   0.1s\n",
      "[CV 1/5] END ...C=500, gamma=0.0001, kernel=rbf;, score=0.965 total time=   0.0s\n",
      "[CV 2/5] END ...C=500, gamma=0.0001, kernel=rbf;, score=0.955 total time=   0.0s\n",
      "[CV 3/5] END ...C=500, gamma=0.0001, kernel=rbf;, score=0.958 total time=   0.0s\n",
      "[CV 4/5] END ...C=500, gamma=0.0001, kernel=rbf;, score=0.969 total time=   0.0s\n",
      "[CV 5/5] END ...C=500, gamma=0.0001, kernel=rbf;, score=0.979 total time=   0.1s\n",
      "[CV 1/5] END ....C=1000, gamma=0.01, kernel=rbf;, score=0.628 total time=   0.3s\n",
      "[CV 2/5] END ....C=1000, gamma=0.01, kernel=rbf;, score=0.747 total time=   0.3s\n",
      "[CV 3/5] END ....C=1000, gamma=0.01, kernel=rbf;, score=0.697 total time=   0.2s\n",
      "[CV 4/5] END ....C=1000, gamma=0.01, kernel=rbf;, score=0.718 total time=   0.3s\n",
      "[CV 5/5] END ....C=1000, gamma=0.01, kernel=rbf;, score=0.732 total time=   0.2s\n",
      "[CV 1/5] END ...C=1000, gamma=0.001, kernel=rbf;, score=0.969 total time=   0.1s\n",
      "[CV 2/5] END ...C=1000, gamma=0.001, kernel=rbf;, score=0.986 total time=   0.1s\n",
      "[CV 3/5] END ...C=1000, gamma=0.001, kernel=rbf;, score=0.976 total time=   0.1s\n",
      "[CV 4/5] END ...C=1000, gamma=0.001, kernel=rbf;, score=0.969 total time=   0.1s\n",
      "[CV 5/5] END ...C=1000, gamma=0.001, kernel=rbf;, score=0.986 total time=   0.1s\n",
      "[CV 1/5] END ..C=1000, gamma=0.0001, kernel=rbf;, score=0.965 total time=   0.0s\n",
      "[CV 2/5] END ..C=1000, gamma=0.0001, kernel=rbf;, score=0.955 total time=   0.0s\n",
      "[CV 3/5] END ..C=1000, gamma=0.0001, kernel=rbf;, score=0.958 total time=   0.0s\n",
      "[CV 4/5] END ..C=1000, gamma=0.0001, kernel=rbf;, score=0.969 total time=   0.0s\n",
      "[CV 5/5] END ..C=1000, gamma=0.0001, kernel=rbf;, score=0.979 total time=   0.0s\n"
     ]
    },
    {
     "data": {
      "text/plain": [
       "GridSearchCV(cv=5, estimator=SVC(gamma=0.001),\n",
       "             param_grid=[{'C': [1, 5, 10, 50, 100, 500, 1000],\n",
       "                          'kernel': ['linear']},\n",
       "                         {'C': [1, 5, 10, 50, 100, 500, 1000],\n",
       "                          'gamma': [0.01, 0.001, 0.0001], 'kernel': ['rbf']}],\n",
       "             verbose=3)"
      ]
     },
     "execution_count": 9,
     "metadata": {},
     "output_type": "execute_result"
    }
   ],
   "source": [
    "search.fit(X_train, y_train) # learn"
   ]
  },
  {
   "cell_type": "code",
   "execution_count": 10,
   "metadata": {},
   "outputs": [
    {
     "data": {
      "text/plain": [
       "{'cv': 5,\n",
       " 'error_score': nan,\n",
       " 'estimator__C': 1.0,\n",
       " 'estimator__break_ties': False,\n",
       " 'estimator__cache_size': 200,\n",
       " 'estimator__class_weight': None,\n",
       " 'estimator__coef0': 0.0,\n",
       " 'estimator__decision_function_shape': 'ovr',\n",
       " 'estimator__degree': 3,\n",
       " 'estimator__gamma': 0.001,\n",
       " 'estimator__kernel': 'rbf',\n",
       " 'estimator__max_iter': -1,\n",
       " 'estimator__probability': False,\n",
       " 'estimator__random_state': None,\n",
       " 'estimator__shrinking': True,\n",
       " 'estimator__tol': 0.001,\n",
       " 'estimator__verbose': False,\n",
       " 'estimator': SVC(gamma=0.001),\n",
       " 'n_jobs': None,\n",
       " 'param_grid': [{'C': [1, 5, 10, 50, 100, 500, 1000], 'kernel': ['linear']},\n",
       "  {'C': [1, 5, 10, 50, 100, 500, 1000],\n",
       "   'gamma': [0.01, 0.001, 0.0001],\n",
       "   'kernel': ['rbf']}],\n",
       " 'pre_dispatch': '2*n_jobs',\n",
       " 'refit': True,\n",
       " 'return_train_score': False,\n",
       " 'scoring': None,\n",
       " 'verbose': 3}"
      ]
     },
     "execution_count": 10,
     "metadata": {},
     "output_type": "execute_result"
    }
   ],
   "source": [
    "search.get_params()"
   ]
  },
  {
   "cell_type": "code",
   "execution_count": 11,
   "metadata": {},
   "outputs": [
    {
     "data": {
      "text/plain": [
       "{'mean_fit_time': array([0.0202435 , 0.02067056, 0.01902642, 0.02032223, 0.01920686,\n",
       "        0.01953688, 0.01891789, 0.20665789, 0.06004992, 0.04982471,\n",
       "        0.20282912, 0.06482105, 0.03267107, 0.20722747, 0.06392918,\n",
       "        0.03161941, 0.20358534, 0.06525946, 0.03085084, 0.21259098,\n",
       "        0.06442966, 0.03066716, 0.21929455, 0.06760669, 0.02960839,\n",
       "        0.20766106, 0.06300383, 0.02873507]),\n",
       " 'std_fit_time': array([0.00114511, 0.00178355, 0.00027251, 0.00060302, 0.00085577,\n",
       "        0.00123313, 0.00039122, 0.01153848, 0.00060062, 0.00076676,\n",
       "        0.00878694, 0.00794466, 0.00047886, 0.00471677, 0.00182859,\n",
       "        0.00178545, 0.00475893, 0.00588141, 0.00295882, 0.01458503,\n",
       "        0.00468219, 0.00284282, 0.00717183, 0.00408197, 0.00229398,\n",
       "        0.00970747, 0.00293367, 0.00059843]),\n",
       " 'mean_score_time': array([0.00566401, 0.00627389, 0.00564022, 0.00647168, 0.00561452,\n",
       "        0.00579333, 0.00536418, 0.04278455, 0.02072887, 0.02577839,\n",
       "        0.04078202, 0.02195706, 0.01658621, 0.04095464, 0.02163692,\n",
       "        0.01506686, 0.04122128, 0.02314119, 0.01456084, 0.03913035,\n",
       "        0.02162976, 0.01551065, 0.04002028, 0.02352934, 0.01475387,\n",
       "        0.04476123, 0.02081814, 0.01425281]),\n",
       " 'std_score_time': array([0.00030682, 0.00110468, 0.00027536, 0.00086861, 0.00025446,\n",
       "        0.00081969, 0.00021909, 0.0065652 , 0.00027478, 0.00141036,\n",
       "        0.00322764, 0.00216129, 0.00021946, 0.00085044, 0.00108048,\n",
       "        0.00028968, 0.00312448, 0.00370315, 0.00055145, 0.00041757,\n",
       "        0.0009238 , 0.00216751, 0.00084615, 0.00405334, 0.00128452,\n",
       "        0.00699547, 0.00038185, 0.00030648]),\n",
       " 'param_C': masked_array(data=[1, 5, 10, 50, 100, 500, 1000, 1, 1, 1, 5, 5, 5, 10, 10,\n",
       "                    10, 50, 50, 50, 100, 100, 100, 500, 500, 500, 1000,\n",
       "                    1000, 1000],\n",
       "              mask=[False, False, False, False, False, False, False, False,\n",
       "                    False, False, False, False, False, False, False, False,\n",
       "                    False, False, False, False, False, False, False, False,\n",
       "                    False, False, False, False],\n",
       "        fill_value='?',\n",
       "             dtype=object),\n",
       " 'param_kernel': masked_array(data=['linear', 'linear', 'linear', 'linear', 'linear',\n",
       "                    'linear', 'linear', 'rbf', 'rbf', 'rbf', 'rbf', 'rbf',\n",
       "                    'rbf', 'rbf', 'rbf', 'rbf', 'rbf', 'rbf', 'rbf', 'rbf',\n",
       "                    'rbf', 'rbf', 'rbf', 'rbf', 'rbf', 'rbf', 'rbf', 'rbf'],\n",
       "              mask=[False, False, False, False, False, False, False, False,\n",
       "                    False, False, False, False, False, False, False, False,\n",
       "                    False, False, False, False, False, False, False, False,\n",
       "                    False, False, False, False],\n",
       "        fill_value='?',\n",
       "             dtype=object),\n",
       " 'param_gamma': masked_array(data=[--, --, --, --, --, --, --, 0.01, 0.001, 0.0001, 0.01,\n",
       "                    0.001, 0.0001, 0.01, 0.001, 0.0001, 0.01, 0.001,\n",
       "                    0.0001, 0.01, 0.001, 0.0001, 0.01, 0.001, 0.0001, 0.01,\n",
       "                    0.001, 0.0001],\n",
       "              mask=[ True,  True,  True,  True,  True,  True,  True, False,\n",
       "                    False, False, False, False, False, False, False, False,\n",
       "                    False, False, False, False, False, False, False, False,\n",
       "                    False, False, False, False],\n",
       "        fill_value='?',\n",
       "             dtype=object),\n",
       " 'params': [{'C': 1, 'kernel': 'linear'},\n",
       "  {'C': 5, 'kernel': 'linear'},\n",
       "  {'C': 10, 'kernel': 'linear'},\n",
       "  {'C': 50, 'kernel': 'linear'},\n",
       "  {'C': 100, 'kernel': 'linear'},\n",
       "  {'C': 500, 'kernel': 'linear'},\n",
       "  {'C': 1000, 'kernel': 'linear'},\n",
       "  {'C': 1, 'gamma': 0.01, 'kernel': 'rbf'},\n",
       "  {'C': 1, 'gamma': 0.001, 'kernel': 'rbf'},\n",
       "  {'C': 1, 'gamma': 0.0001, 'kernel': 'rbf'},\n",
       "  {'C': 5, 'gamma': 0.01, 'kernel': 'rbf'},\n",
       "  {'C': 5, 'gamma': 0.001, 'kernel': 'rbf'},\n",
       "  {'C': 5, 'gamma': 0.0001, 'kernel': 'rbf'},\n",
       "  {'C': 10, 'gamma': 0.01, 'kernel': 'rbf'},\n",
       "  {'C': 10, 'gamma': 0.001, 'kernel': 'rbf'},\n",
       "  {'C': 10, 'gamma': 0.0001, 'kernel': 'rbf'},\n",
       "  {'C': 50, 'gamma': 0.01, 'kernel': 'rbf'},\n",
       "  {'C': 50, 'gamma': 0.001, 'kernel': 'rbf'},\n",
       "  {'C': 50, 'gamma': 0.0001, 'kernel': 'rbf'},\n",
       "  {'C': 100, 'gamma': 0.01, 'kernel': 'rbf'},\n",
       "  {'C': 100, 'gamma': 0.001, 'kernel': 'rbf'},\n",
       "  {'C': 100, 'gamma': 0.0001, 'kernel': 'rbf'},\n",
       "  {'C': 500, 'gamma': 0.01, 'kernel': 'rbf'},\n",
       "  {'C': 500, 'gamma': 0.001, 'kernel': 'rbf'},\n",
       "  {'C': 500, 'gamma': 0.0001, 'kernel': 'rbf'},\n",
       "  {'C': 1000, 'gamma': 0.01, 'kernel': 'rbf'},\n",
       "  {'C': 1000, 'gamma': 0.001, 'kernel': 'rbf'},\n",
       "  {'C': 1000, 'gamma': 0.0001, 'kernel': 'rbf'}],\n",
       " 'split0_test_score': array([0.94791667, 0.94791667, 0.94791667, 0.94791667, 0.94791667,\n",
       "        0.94791667, 0.94791667, 0.60763889, 0.95486111, 0.90972222,\n",
       "        0.62847222, 0.96875   , 0.95138889, 0.62847222, 0.96875   ,\n",
       "        0.96875   , 0.62847222, 0.96875   , 0.96527778, 0.62847222,\n",
       "        0.96875   , 0.96527778, 0.62847222, 0.96875   , 0.96527778,\n",
       "        0.62847222, 0.96875   , 0.96527778]),\n",
       " 'split1_test_score': array([0.94791667, 0.94791667, 0.94791667, 0.94791667, 0.94791667,\n",
       "        0.94791667, 0.94791667, 0.73263889, 0.97916667, 0.95486111,\n",
       "        0.74652778, 0.98611111, 0.96527778, 0.74652778, 0.98611111,\n",
       "        0.95833333, 0.74652778, 0.98611111, 0.95486111, 0.74652778,\n",
       "        0.98611111, 0.95486111, 0.74652778, 0.98611111, 0.95486111,\n",
       "        0.74652778, 0.98611111, 0.95486111]),\n",
       " 'split2_test_score': array([0.94425087, 0.94425087, 0.94425087, 0.94425087, 0.94425087,\n",
       "        0.94425087, 0.94425087, 0.68641115, 0.97560976, 0.91986063,\n",
       "        0.69686411, 0.97560976, 0.96515679, 0.69686411, 0.97560976,\n",
       "        0.96515679, 0.69686411, 0.97560976, 0.95818815, 0.69686411,\n",
       "        0.97560976, 0.95818815, 0.69686411, 0.97560976, 0.95818815,\n",
       "        0.69686411, 0.97560976, 0.95818815]),\n",
       " 'split3_test_score': array([0.96515679, 0.96515679, 0.96515679, 0.96515679, 0.96515679,\n",
       "        0.96515679, 0.96515679, 0.71080139, 0.97560976, 0.96515679,\n",
       "        0.71777003, 0.96864111, 0.97560976, 0.71777003, 0.96864111,\n",
       "        0.96864111, 0.71777003, 0.96864111, 0.96864111, 0.71777003,\n",
       "        0.96864111, 0.96864111, 0.71777003, 0.96864111, 0.96864111,\n",
       "        0.71777003, 0.96864111, 0.96864111]),\n",
       " 'split4_test_score': array([0.97212544, 0.97212544, 0.97212544, 0.97212544, 0.97212544,\n",
       "        0.97212544, 0.97212544, 0.72473868, 0.9825784 , 0.97560976,\n",
       "        0.73170732, 0.98606272, 0.97560976, 0.73170732, 0.98606272,\n",
       "        0.9825784 , 0.73170732, 0.98606272, 0.97909408, 0.73170732,\n",
       "        0.98606272, 0.97909408, 0.73170732, 0.98606272, 0.97909408,\n",
       "        0.73170732, 0.98606272, 0.97909408]),\n",
       " 'mean_test_score': array([0.95547329, 0.95547329, 0.95547329, 0.95547329, 0.95547329,\n",
       "        0.95547329, 0.95547329, 0.6924458 , 0.97356514, 0.9450421 ,\n",
       "        0.70426829, 0.97703494, 0.96660859, 0.70426829, 0.97703494,\n",
       "        0.96869193, 0.70426829, 0.97703494, 0.96521245, 0.70426829,\n",
       "        0.97703494, 0.96521245, 0.70426829, 0.97703494, 0.96521245,\n",
       "        0.70426829, 0.97703494, 0.96521245]),\n",
       " 'std_test_score': array([0.01105633, 0.01105633, 0.01105633, 0.01105633, 0.01105633,\n",
       "        0.01105633, 0.01105633, 0.04521918, 0.00970379, 0.02575654,\n",
       "        0.04128178, 0.00781032, 0.00891695, 0.04128178, 0.00781032,\n",
       "        0.00790743, 0.04128178, 0.00781032, 0.00849648, 0.04128178,\n",
       "        0.00781032, 0.00849648, 0.04128178, 0.00781032, 0.00849648,\n",
       "        0.04128178, 0.00781032, 0.00849648]),\n",
       " 'rank_test_score': array([14, 14, 14, 14, 14, 14, 14, 28,  7, 21, 22,  1,  9, 22,  1,  8, 22,\n",
       "         1, 10, 22,  1, 10, 22,  1, 10, 22,  1, 10], dtype=int32)}"
      ]
     },
     "execution_count": 11,
     "metadata": {},
     "output_type": "execute_result"
    }
   ],
   "source": [
    "search.cv_results_"
   ]
  },
  {
   "cell_type": "code",
   "execution_count": 12,
   "metadata": {},
   "outputs": [
    {
     "data": {
      "text/plain": [
       "{'C': 5, 'gamma': 0.001, 'kernel': 'rbf'}"
      ]
     },
     "execution_count": 12,
     "metadata": {},
     "output_type": "execute_result"
    }
   ],
   "source": [
    "search.best_params_"
   ]
  },
  {
   "cell_type": "markdown",
   "metadata": {},
   "source": [
    "## 2. Random Search Cross Validation.\n",
    "It performs the search in the brute-force way using cross-validation. One has to define the parameter space. The scikit-learn function is ``GridSearchCV``. More details [here](!https://scikit-learn.org/stable/modules/generated/sklearn.model_selection.GridSearchCV.html).\n",
    "\n",
    "The advantage is that it can be used for a wide hyperparameter space and limit to ``n_iter`` number of iterations."
   ]
  },
  {
   "cell_type": "code",
   "execution_count": 13,
   "metadata": {},
   "outputs": [
    {
     "data": {
      "text/plain": [
       "RandomizedSearchCV(cv=5, estimator=SVC(gamma=0.001), n_iter=100,\n",
       "                   param_distributions=[{'C': <scipy.stats._distn_infrastructure.rv_continuous_frozen object at 0x7facafc962e0>,\n",
       "                                         'kernel': ['linear']},\n",
       "                                        {'C': <scipy.stats._distn_infrastructure.rv_continuous_frozen object at 0x7facafc96670>,\n",
       "                                         'gamma': <scipy.stats._distn_infrastructure.rv_continuous_frozen object at 0x7facafc96130>,\n",
       "                                         'kernel': ['rbf']}],\n",
       "                   random_state=0)"
      ]
     },
     "execution_count": 13,
     "metadata": {},
     "output_type": "execute_result"
    }
   ],
   "source": [
    "from sklearn.model_selection import RandomizedSearchCV\n",
    "from scipy.stats import uniform,norm ,loguniform\n",
    "\n",
    " \n",
    "distributions= [ {'C': uniform(loc=1, scale=1000), 'kernel': ['linear']},\n",
    "  {'C': uniform(loc=1, scale=1000), 'gamma': loguniform(1e-4,1e-2), 'kernel': ['rbf']}]\n",
    "clf2 = RandomizedSearchCV(clf, distributions, random_state=0,cv=5,n_iter=100)\n",
    "clf2.fit(X_train,y_train)"
   ]
  },
  {
   "cell_type": "markdown",
   "metadata": {},
   "source": [
    "Compare the two"
   ]
  },
  {
   "cell_type": "code",
   "execution_count": 14,
   "metadata": {},
   "outputs": [
    {
     "name": "stdout",
     "output_type": "stream",
     "text": [
      "{'C': 5, 'gamma': 0.001, 'kernel': 'rbf'}\n",
      "{'C': 20.987665408758737, 'gamma': 0.0007645780792982153, 'kernel': 'rbf'}\n"
     ]
    }
   ],
   "source": [
    "print(search.best_params_)\n",
    "print(clf2.best_params_)"
   ]
  },
  {
   "cell_type": "markdown",
   "metadata": {},
   "source": [
    "## 3. Ensemble learning\n",
    "\n",
    "The group of models performs better than individual models. For example, Random Forests perform better than the individual Decision Trees that constitute the Forest.\n",
    "\n",
    "\n",
    "### 3.1 Voting Classifier\n",
    "\n",
    "Aggregate the predictions of each classifier and predict the class that gets the most votes.\n",
    "\n",
    "![Voting Classifer](votingclassifier.png)\n",
    "\n",
    "From \"Hands on Machine Learning With Sci-kit Learn, Keras, and Tensorflow\" (Gueron)"
   ]
  },
  {
   "cell_type": "code",
   "execution_count": 17,
   "metadata": {},
   "outputs": [
    {
     "name": "stderr",
     "output_type": "stream",
     "text": [
      "/Users/marinedenolle/opt/miniconda3/envs/mlgeo_sk/lib/python3.9/site-packages/sklearn/linear_model/_logistic.py:762: ConvergenceWarning: lbfgs failed to converge (status=1):\n",
      "STOP: TOTAL NO. of ITERATIONS REACHED LIMIT.\n",
      "\n",
      "Increase the number of iterations (max_iter) or scale the data as shown in:\n",
      "    https://scikit-learn.org/stable/modules/preprocessing.html\n",
      "Please also refer to the documentation for alternative solver options:\n",
      "    https://scikit-learn.org/stable/modules/linear_model.html#logistic-regression\n",
      "  n_iter_i = _check_optimize_result(\n"
     ]
    },
    {
     "data": {
      "text/plain": [
       "0.9388888888888889"
      ]
     },
     "execution_count": 17,
     "metadata": {},
     "output_type": "execute_result"
    }
   ],
   "source": [
    "from sklearn.ensemble import VotingClassifier\n",
    "from sklearn.linear_model import LogisticRegression\n",
    "from sklearn.metrics import accuracy_score\n",
    "\n",
    "\n",
    "svc_clf = SVC(gamma=0.001) # model design\n",
    "log_clf = LogisticRegression()\n",
    "rf_clf = RandomForestClassifier()\n",
    "\n",
    "voting_clf = VotingClassifier(\n",
    "    estimators = [ ('lr',log_clf) , ('rf',rf_clf),('svc',svc_clf)],\n",
    "    voting='hard')\n",
    "\n",
    "voting_clf.fit(X_train, y_train) # learn\n",
    "y_pred=voting_clf.predict(X_test)\n",
    "accuracy_score(y_test,y_pred)\n"
   ]
  },
  {
   "cell_type": "markdown",
   "metadata": {},
   "source": [
    "Compare with individual ones"
   ]
  },
  {
   "cell_type": "code",
   "execution_count": 18,
   "metadata": {},
   "outputs": [
    {
     "name": "stderr",
     "output_type": "stream",
     "text": [
      "/Users/marinedenolle/opt/miniconda3/envs/mlgeo_sk/lib/python3.9/site-packages/sklearn/linear_model/_logistic.py:762: ConvergenceWarning: lbfgs failed to converge (status=1):\n",
      "STOP: TOTAL NO. of ITERATIONS REACHED LIMIT.\n",
      "\n",
      "Increase the number of iterations (max_iter) or scale the data as shown in:\n",
      "    https://scikit-learn.org/stable/modules/preprocessing.html\n",
      "Please also refer to the documentation for alternative solver options:\n",
      "    https://scikit-learn.org/stable/modules/linear_model.html#logistic-regression\n",
      "  n_iter_i = _check_optimize_result(\n"
     ]
    },
    {
     "name": "stdout",
     "output_type": "stream",
     "text": [
      "LogisticRegression 0.9055555555555556\n",
      "RandomForestClassifier 0.9222222222222223\n",
      "SVC 0.9583333333333334\n"
     ]
    },
    {
     "name": "stderr",
     "output_type": "stream",
     "text": [
      "/Users/marinedenolle/opt/miniconda3/envs/mlgeo_sk/lib/python3.9/site-packages/sklearn/linear_model/_logistic.py:762: ConvergenceWarning: lbfgs failed to converge (status=1):\n",
      "STOP: TOTAL NO. of ITERATIONS REACHED LIMIT.\n",
      "\n",
      "Increase the number of iterations (max_iter) or scale the data as shown in:\n",
      "    https://scikit-learn.org/stable/modules/preprocessing.html\n",
      "Please also refer to the documentation for alternative solver options:\n",
      "    https://scikit-learn.org/stable/modules/linear_model.html#logistic-regression\n",
      "  n_iter_i = _check_optimize_result(\n"
     ]
    },
    {
     "name": "stdout",
     "output_type": "stream",
     "text": [
      "VotingClassifier 0.9472222222222222\n"
     ]
    }
   ],
   "source": [
    "for clf in (log_clf,rf_clf,svc_clf,voting_clf):\n",
    "    clf.fit(X_train,y_train)\n",
    "    y_pred=clf.predict(X_test)\n",
    "    print(clf.__class__.__name__,accuracy_score(y_test,y_pred))"
   ]
  },
  {
   "cell_type": "markdown",
   "metadata": {},
   "source": []
  }
 ],
 "metadata": {
  "kernelspec": {
   "display_name": "Python 3 (ipykernel)",
   "language": "python",
   "name": "python3"
  },
  "language_info": {
   "codemirror_mode": {
    "name": "ipython",
    "version": 3
   },
   "file_extension": ".py",
   "mimetype": "text/x-python",
   "name": "python",
   "nbconvert_exporter": "python",
   "pygments_lexer": "ipython3",
   "version": "3.8.13"
  },
  "vscode": {
   "interpreter": {
    "hash": "f625eed87f201675869c1975f26c79747f846dd12cd9c70305bdb23b2c204f1d"
   }
  }
 },
 "nbformat": 4,
 "nbformat_minor": 4
}
